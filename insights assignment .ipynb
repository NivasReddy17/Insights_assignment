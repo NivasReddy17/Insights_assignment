{
 "cells": [
  {
   "cell_type": "code",
   "execution_count": 2,
   "id": "fc3154fe",
   "metadata": {},
   "outputs": [],
   "source": [
    "#import the required libraries\n",
    "import pandas as pd\n",
    "import numpy as np\n",
    "import matplotlib.pyplot as plt\n",
    "import seaborn as sns"
   ]
  },
  {
   "cell_type": "code",
   "execution_count": 3,
   "id": "6489c5c7",
   "metadata": {},
   "outputs": [
    {
     "data": {
      "text/html": [
       "<div>\n",
       "<style scoped>\n",
       "    .dataframe tbody tr th:only-of-type {\n",
       "        vertical-align: middle;\n",
       "    }\n",
       "\n",
       "    .dataframe tbody tr th {\n",
       "        vertical-align: top;\n",
       "    }\n",
       "\n",
       "    .dataframe thead th {\n",
       "        text-align: right;\n",
       "    }\n",
       "</style>\n",
       "<table border=\"1\" class=\"dataframe\">\n",
       "  <thead>\n",
       "    <tr style=\"text-align: right;\">\n",
       "      <th></th>\n",
       "      <th>grbno</th>\n",
       "      <th>acct_mob</th>\n",
       "      <th>age</th>\n",
       "      <th>annual_income_grb</th>\n",
       "      <th>att_ind</th>\n",
       "      <th>bonds_avgbal</th>\n",
       "      <th>bonds_eopbal</th>\n",
       "      <th>bonds_eopbal2</th>\n",
       "      <th>bonds_prod_cnt</th>\n",
       "      <th>bond_ind</th>\n",
       "      <th>...</th>\n",
       "      <th>occ1</th>\n",
       "      <th>occ2</th>\n",
       "      <th>occ3</th>\n",
       "      <th>occ4</th>\n",
       "      <th>occ5</th>\n",
       "      <th>occ6</th>\n",
       "      <th>occ7</th>\n",
       "      <th>qb</th>\n",
       "      <th>w_onlineBanking</th>\n",
       "      <th>w_mobileBanking</th>\n",
       "    </tr>\n",
       "  </thead>\n",
       "  <tbody>\n",
       "    <tr>\n",
       "      <th>0</th>\n",
       "      <td>6130952ea82fe5680d48c9aba86e79e4</td>\n",
       "      <td>201</td>\n",
       "      <td>59.0</td>\n",
       "      <td>4826460.0</td>\n",
       "      <td>0</td>\n",
       "      <td>0.0</td>\n",
       "      <td>0.0</td>\n",
       "      <td>0.0</td>\n",
       "      <td>0</td>\n",
       "      <td>0</td>\n",
       "      <td>...</td>\n",
       "      <td>0.0</td>\n",
       "      <td>0.0</td>\n",
       "      <td>1.0</td>\n",
       "      <td>0.0</td>\n",
       "      <td>0.0</td>\n",
       "      <td>0.0</td>\n",
       "      <td>0.0</td>\n",
       "      <td>0.0</td>\n",
       "      <td>0.0</td>\n",
       "      <td>1.0</td>\n",
       "    </tr>\n",
       "    <tr>\n",
       "      <th>1</th>\n",
       "      <td>6130952ea82fe5680d48c9aba86e79e4</td>\n",
       "      <td>201</td>\n",
       "      <td>59.0</td>\n",
       "      <td>4826460.0</td>\n",
       "      <td>0</td>\n",
       "      <td>0.0</td>\n",
       "      <td>0.0</td>\n",
       "      <td>0.0</td>\n",
       "      <td>0</td>\n",
       "      <td>0</td>\n",
       "      <td>...</td>\n",
       "      <td>0.0</td>\n",
       "      <td>0.0</td>\n",
       "      <td>1.0</td>\n",
       "      <td>0.0</td>\n",
       "      <td>0.0</td>\n",
       "      <td>0.0</td>\n",
       "      <td>0.0</td>\n",
       "      <td>0.0</td>\n",
       "      <td>0.0</td>\n",
       "      <td>1.0</td>\n",
       "    </tr>\n",
       "    <tr>\n",
       "      <th>2</th>\n",
       "      <td>e08a7797be0c8c6b4c672fb4893b5676</td>\n",
       "      <td>120</td>\n",
       "      <td>41.0</td>\n",
       "      <td>0.0</td>\n",
       "      <td>0</td>\n",
       "      <td>0.0</td>\n",
       "      <td>0.0</td>\n",
       "      <td>0.0</td>\n",
       "      <td>0</td>\n",
       "      <td>0</td>\n",
       "      <td>...</td>\n",
       "      <td>0.0</td>\n",
       "      <td>0.0</td>\n",
       "      <td>1.0</td>\n",
       "      <td>0.0</td>\n",
       "      <td>0.0</td>\n",
       "      <td>0.0</td>\n",
       "      <td>0.0</td>\n",
       "      <td>0.0</td>\n",
       "      <td>1.0</td>\n",
       "      <td>0.0</td>\n",
       "    </tr>\n",
       "    <tr>\n",
       "      <th>3</th>\n",
       "      <td>faf9adfaa0efaa9d3347b6650e7842c3</td>\n",
       "      <td>201</td>\n",
       "      <td>38.0</td>\n",
       "      <td>0.0</td>\n",
       "      <td>0</td>\n",
       "      <td>0.0</td>\n",
       "      <td>0.0</td>\n",
       "      <td>0.0</td>\n",
       "      <td>0</td>\n",
       "      <td>0</td>\n",
       "      <td>...</td>\n",
       "      <td>0.0</td>\n",
       "      <td>0.0</td>\n",
       "      <td>0.0</td>\n",
       "      <td>0.0</td>\n",
       "      <td>0.0</td>\n",
       "      <td>1.0</td>\n",
       "      <td>0.0</td>\n",
       "      <td>0.0</td>\n",
       "      <td>1.0</td>\n",
       "      <td>1.0</td>\n",
       "    </tr>\n",
       "    <tr>\n",
       "      <th>4</th>\n",
       "      <td>faf9adfaa0efaa9d3347b6650e7842c3</td>\n",
       "      <td>71</td>\n",
       "      <td>38.0</td>\n",
       "      <td>0.0</td>\n",
       "      <td>0</td>\n",
       "      <td>0.0</td>\n",
       "      <td>0.0</td>\n",
       "      <td>0.0</td>\n",
       "      <td>0</td>\n",
       "      <td>0</td>\n",
       "      <td>...</td>\n",
       "      <td>0.0</td>\n",
       "      <td>0.0</td>\n",
       "      <td>0.0</td>\n",
       "      <td>0.0</td>\n",
       "      <td>0.0</td>\n",
       "      <td>1.0</td>\n",
       "      <td>0.0</td>\n",
       "      <td>0.0</td>\n",
       "      <td>1.0</td>\n",
       "      <td>1.0</td>\n",
       "    </tr>\n",
       "  </tbody>\n",
       "</table>\n",
       "<p>5 rows × 141 columns</p>\n",
       "</div>"
      ],
      "text/plain": [
       "                              grbno  acct_mob   age  annual_income_grb  \\\n",
       "0  6130952ea82fe5680d48c9aba86e79e4       201  59.0          4826460.0   \n",
       "1  6130952ea82fe5680d48c9aba86e79e4       201  59.0          4826460.0   \n",
       "2  e08a7797be0c8c6b4c672fb4893b5676       120  41.0                0.0   \n",
       "3  faf9adfaa0efaa9d3347b6650e7842c3       201  38.0                0.0   \n",
       "4  faf9adfaa0efaa9d3347b6650e7842c3        71  38.0                0.0   \n",
       "\n",
       "   att_ind  bonds_avgbal  bonds_eopbal  bonds_eopbal2  bonds_prod_cnt  \\\n",
       "0        0           0.0           0.0            0.0               0   \n",
       "1        0           0.0           0.0            0.0               0   \n",
       "2        0           0.0           0.0            0.0               0   \n",
       "3        0           0.0           0.0            0.0               0   \n",
       "4        0           0.0           0.0            0.0               0   \n",
       "\n",
       "   bond_ind  ...  occ1  occ2  occ3  occ4  occ5  occ6  occ7   qb  \\\n",
       "0         0  ...   0.0   0.0   1.0   0.0   0.0   0.0   0.0  0.0   \n",
       "1         0  ...   0.0   0.0   1.0   0.0   0.0   0.0   0.0  0.0   \n",
       "2         0  ...   0.0   0.0   1.0   0.0   0.0   0.0   0.0  0.0   \n",
       "3         0  ...   0.0   0.0   0.0   0.0   0.0   1.0   0.0  0.0   \n",
       "4         0  ...   0.0   0.0   0.0   0.0   0.0   1.0   0.0  0.0   \n",
       "\n",
       "   w_onlineBanking w_mobileBanking  \n",
       "0              0.0             1.0  \n",
       "1              0.0             1.0  \n",
       "2              1.0             0.0  \n",
       "3              1.0             1.0  \n",
       "4              1.0             1.0  \n",
       "\n",
       "[5 rows x 141 columns]"
      ]
     },
     "execution_count": 3,
     "metadata": {},
     "output_type": "execute_result"
    }
   ],
   "source": [
    "#read the dataset\n",
    "df=pd.read_csv('cust_segment.csv')\n",
    "df.head()"
   ]
  },
  {
   "cell_type": "code",
   "execution_count": 4,
   "id": "a07e66b9",
   "metadata": {},
   "outputs": [
    {
     "name": "stdout",
     "output_type": "stream",
     "text": [
      "<class 'pandas.core.frame.DataFrame'>\n",
      "RangeIndex: 96913 entries, 0 to 96912\n",
      "Columns: 141 entries, grbno to w_mobileBanking\n",
      "dtypes: float64(91), int64(24), object(26)\n",
      "memory usage: 104.3+ MB\n"
     ]
    }
   ],
   "source": [
    "df.info()"
   ]
  },
  {
   "cell_type": "code",
   "execution_count": 5,
   "id": "24a5ea54",
   "metadata": {},
   "outputs": [
    {
     "data": {
      "text/html": [
       "<div>\n",
       "<style scoped>\n",
       "    .dataframe tbody tr th:only-of-type {\n",
       "        vertical-align: middle;\n",
       "    }\n",
       "\n",
       "    .dataframe tbody tr th {\n",
       "        vertical-align: top;\n",
       "    }\n",
       "\n",
       "    .dataframe thead th {\n",
       "        text-align: right;\n",
       "    }\n",
       "</style>\n",
       "<table border=\"1\" class=\"dataframe\">\n",
       "  <thead>\n",
       "    <tr style=\"text-align: right;\">\n",
       "      <th></th>\n",
       "      <th>acct_mob</th>\n",
       "      <th>age</th>\n",
       "      <th>annual_income_grb</th>\n",
       "      <th>att_ind</th>\n",
       "      <th>bonds_avgbal</th>\n",
       "      <th>bonds_eopbal</th>\n",
       "      <th>bonds_eopbal2</th>\n",
       "      <th>bonds_prod_cnt</th>\n",
       "      <th>bond_ind</th>\n",
       "      <th>casa_avgbal</th>\n",
       "      <th>...</th>\n",
       "      <th>occ1</th>\n",
       "      <th>occ2</th>\n",
       "      <th>occ3</th>\n",
       "      <th>occ4</th>\n",
       "      <th>occ5</th>\n",
       "      <th>occ6</th>\n",
       "      <th>occ7</th>\n",
       "      <th>qb</th>\n",
       "      <th>w_onlineBanking</th>\n",
       "      <th>w_mobileBanking</th>\n",
       "    </tr>\n",
       "  </thead>\n",
       "  <tbody>\n",
       "    <tr>\n",
       "      <th>count</th>\n",
       "      <td>96913.000000</td>\n",
       "      <td>95918.000000</td>\n",
       "      <td>9.690900e+04</td>\n",
       "      <td>96913.0</td>\n",
       "      <td>9.691300e+04</td>\n",
       "      <td>9.691300e+04</td>\n",
       "      <td>9.691300e+04</td>\n",
       "      <td>96913.000000</td>\n",
       "      <td>96913.000000</td>\n",
       "      <td>9.691300e+04</td>\n",
       "      <td>...</td>\n",
       "      <td>88041.000000</td>\n",
       "      <td>88041.000000</td>\n",
       "      <td>88041.000000</td>\n",
       "      <td>88041.000000</td>\n",
       "      <td>88041.000000</td>\n",
       "      <td>88041.000000</td>\n",
       "      <td>88041.000000</td>\n",
       "      <td>88041.000000</td>\n",
       "      <td>88041.000000</td>\n",
       "      <td>88041.000000</td>\n",
       "    </tr>\n",
       "    <tr>\n",
       "      <th>mean</th>\n",
       "      <td>92.225212</td>\n",
       "      <td>53.091912</td>\n",
       "      <td>7.619704e+05</td>\n",
       "      <td>0.0</td>\n",
       "      <td>3.842066e+06</td>\n",
       "      <td>3.842066e+06</td>\n",
       "      <td>3.890587e+06</td>\n",
       "      <td>0.768194</td>\n",
       "      <td>0.268787</td>\n",
       "      <td>3.017857e+06</td>\n",
       "      <td>...</td>\n",
       "      <td>0.058098</td>\n",
       "      <td>0.088061</td>\n",
       "      <td>0.287275</td>\n",
       "      <td>0.127384</td>\n",
       "      <td>0.140207</td>\n",
       "      <td>0.049931</td>\n",
       "      <td>0.026022</td>\n",
       "      <td>0.090730</td>\n",
       "      <td>0.453766</td>\n",
       "      <td>0.597324</td>\n",
       "    </tr>\n",
       "    <tr>\n",
       "      <th>std</th>\n",
       "      <td>81.498841</td>\n",
       "      <td>15.936010</td>\n",
       "      <td>1.191290e+07</td>\n",
       "      <td>0.0</td>\n",
       "      <td>1.979527e+07</td>\n",
       "      <td>1.979527e+07</td>\n",
       "      <td>1.997800e+07</td>\n",
       "      <td>2.009742</td>\n",
       "      <td>0.443331</td>\n",
       "      <td>1.278831e+07</td>\n",
       "      <td>...</td>\n",
       "      <td>0.233930</td>\n",
       "      <td>0.283386</td>\n",
       "      <td>0.452494</td>\n",
       "      <td>0.333404</td>\n",
       "      <td>0.347204</td>\n",
       "      <td>0.217804</td>\n",
       "      <td>0.159201</td>\n",
       "      <td>0.287227</td>\n",
       "      <td>0.497861</td>\n",
       "      <td>0.490439</td>\n",
       "    </tr>\n",
       "    <tr>\n",
       "      <th>min</th>\n",
       "      <td>0.000000</td>\n",
       "      <td>15.000000</td>\n",
       "      <td>0.000000e+00</td>\n",
       "      <td>0.0</td>\n",
       "      <td>0.000000e+00</td>\n",
       "      <td>0.000000e+00</td>\n",
       "      <td>0.000000e+00</td>\n",
       "      <td>0.000000</td>\n",
       "      <td>0.000000</td>\n",
       "      <td>-8.064933e+05</td>\n",
       "      <td>...</td>\n",
       "      <td>0.000000</td>\n",
       "      <td>0.000000</td>\n",
       "      <td>0.000000</td>\n",
       "      <td>0.000000</td>\n",
       "      <td>0.000000</td>\n",
       "      <td>0.000000</td>\n",
       "      <td>0.000000</td>\n",
       "      <td>0.000000</td>\n",
       "      <td>0.000000</td>\n",
       "      <td>0.000000</td>\n",
       "    </tr>\n",
       "    <tr>\n",
       "      <th>25%</th>\n",
       "      <td>32.000000</td>\n",
       "      <td>40.000000</td>\n",
       "      <td>0.000000e+00</td>\n",
       "      <td>0.0</td>\n",
       "      <td>0.000000e+00</td>\n",
       "      <td>0.000000e+00</td>\n",
       "      <td>0.000000e+00</td>\n",
       "      <td>0.000000</td>\n",
       "      <td>0.000000</td>\n",
       "      <td>1.111294e+04</td>\n",
       "      <td>...</td>\n",
       "      <td>0.000000</td>\n",
       "      <td>0.000000</td>\n",
       "      <td>0.000000</td>\n",
       "      <td>0.000000</td>\n",
       "      <td>0.000000</td>\n",
       "      <td>0.000000</td>\n",
       "      <td>0.000000</td>\n",
       "      <td>0.000000</td>\n",
       "      <td>0.000000</td>\n",
       "      <td>0.000000</td>\n",
       "    </tr>\n",
       "    <tr>\n",
       "      <th>50%</th>\n",
       "      <td>72.000000</td>\n",
       "      <td>53.000000</td>\n",
       "      <td>0.000000e+00</td>\n",
       "      <td>0.0</td>\n",
       "      <td>0.000000e+00</td>\n",
       "      <td>0.000000e+00</td>\n",
       "      <td>0.000000e+00</td>\n",
       "      <td>0.000000</td>\n",
       "      <td>0.000000</td>\n",
       "      <td>4.549958e+05</td>\n",
       "      <td>...</td>\n",
       "      <td>0.000000</td>\n",
       "      <td>0.000000</td>\n",
       "      <td>0.000000</td>\n",
       "      <td>0.000000</td>\n",
       "      <td>0.000000</td>\n",
       "      <td>0.000000</td>\n",
       "      <td>0.000000</td>\n",
       "      <td>0.000000</td>\n",
       "      <td>0.000000</td>\n",
       "      <td>1.000000</td>\n",
       "    </tr>\n",
       "    <tr>\n",
       "      <th>75%</th>\n",
       "      <td>122.000000</td>\n",
       "      <td>65.000000</td>\n",
       "      <td>0.000000e+00</td>\n",
       "      <td>0.0</td>\n",
       "      <td>9.700000e+05</td>\n",
       "      <td>9.700000e+05</td>\n",
       "      <td>9.636120e+05</td>\n",
       "      <td>1.000000</td>\n",
       "      <td>1.000000</td>\n",
       "      <td>2.184805e+06</td>\n",
       "      <td>...</td>\n",
       "      <td>0.000000</td>\n",
       "      <td>0.000000</td>\n",
       "      <td>1.000000</td>\n",
       "      <td>0.000000</td>\n",
       "      <td>0.000000</td>\n",
       "      <td>0.000000</td>\n",
       "      <td>0.000000</td>\n",
       "      <td>0.000000</td>\n",
       "      <td>1.000000</td>\n",
       "      <td>1.000000</td>\n",
       "    </tr>\n",
       "    <tr>\n",
       "      <th>max</th>\n",
       "      <td>845.000000</td>\n",
       "      <td>114.000000</td>\n",
       "      <td>1.400100e+09</td>\n",
       "      <td>0.0</td>\n",
       "      <td>4.904487e+08</td>\n",
       "      <td>4.904487e+08</td>\n",
       "      <td>4.961917e+08</td>\n",
       "      <td>27.000000</td>\n",
       "      <td>1.000000</td>\n",
       "      <td>6.623403e+08</td>\n",
       "      <td>...</td>\n",
       "      <td>1.000000</td>\n",
       "      <td>1.000000</td>\n",
       "      <td>1.000000</td>\n",
       "      <td>1.000000</td>\n",
       "      <td>1.000000</td>\n",
       "      <td>1.000000</td>\n",
       "      <td>1.000000</td>\n",
       "      <td>1.000000</td>\n",
       "      <td>1.000000</td>\n",
       "      <td>1.000000</td>\n",
       "    </tr>\n",
       "  </tbody>\n",
       "</table>\n",
       "<p>8 rows × 115 columns</p>\n",
       "</div>"
      ],
      "text/plain": [
       "           acct_mob           age  annual_income_grb  att_ind  bonds_avgbal  \\\n",
       "count  96913.000000  95918.000000       9.690900e+04  96913.0  9.691300e+04   \n",
       "mean      92.225212     53.091912       7.619704e+05      0.0  3.842066e+06   \n",
       "std       81.498841     15.936010       1.191290e+07      0.0  1.979527e+07   \n",
       "min        0.000000     15.000000       0.000000e+00      0.0  0.000000e+00   \n",
       "25%       32.000000     40.000000       0.000000e+00      0.0  0.000000e+00   \n",
       "50%       72.000000     53.000000       0.000000e+00      0.0  0.000000e+00   \n",
       "75%      122.000000     65.000000       0.000000e+00      0.0  9.700000e+05   \n",
       "max      845.000000    114.000000       1.400100e+09      0.0  4.904487e+08   \n",
       "\n",
       "       bonds_eopbal  bonds_eopbal2  bonds_prod_cnt      bond_ind  \\\n",
       "count  9.691300e+04   9.691300e+04    96913.000000  96913.000000   \n",
       "mean   3.842066e+06   3.890587e+06        0.768194      0.268787   \n",
       "std    1.979527e+07   1.997800e+07        2.009742      0.443331   \n",
       "min    0.000000e+00   0.000000e+00        0.000000      0.000000   \n",
       "25%    0.000000e+00   0.000000e+00        0.000000      0.000000   \n",
       "50%    0.000000e+00   0.000000e+00        0.000000      0.000000   \n",
       "75%    9.700000e+05   9.636120e+05        1.000000      1.000000   \n",
       "max    4.904487e+08   4.961917e+08       27.000000      1.000000   \n",
       "\n",
       "        casa_avgbal  ...          occ1          occ2          occ3  \\\n",
       "count  9.691300e+04  ...  88041.000000  88041.000000  88041.000000   \n",
       "mean   3.017857e+06  ...      0.058098      0.088061      0.287275   \n",
       "std    1.278831e+07  ...      0.233930      0.283386      0.452494   \n",
       "min   -8.064933e+05  ...      0.000000      0.000000      0.000000   \n",
       "25%    1.111294e+04  ...      0.000000      0.000000      0.000000   \n",
       "50%    4.549958e+05  ...      0.000000      0.000000      0.000000   \n",
       "75%    2.184805e+06  ...      0.000000      0.000000      1.000000   \n",
       "max    6.623403e+08  ...      1.000000      1.000000      1.000000   \n",
       "\n",
       "               occ4          occ5          occ6          occ7            qb  \\\n",
       "count  88041.000000  88041.000000  88041.000000  88041.000000  88041.000000   \n",
       "mean       0.127384      0.140207      0.049931      0.026022      0.090730   \n",
       "std        0.333404      0.347204      0.217804      0.159201      0.287227   \n",
       "min        0.000000      0.000000      0.000000      0.000000      0.000000   \n",
       "25%        0.000000      0.000000      0.000000      0.000000      0.000000   \n",
       "50%        0.000000      0.000000      0.000000      0.000000      0.000000   \n",
       "75%        0.000000      0.000000      0.000000      0.000000      0.000000   \n",
       "max        1.000000      1.000000      1.000000      1.000000      1.000000   \n",
       "\n",
       "       w_onlineBanking  w_mobileBanking  \n",
       "count     88041.000000     88041.000000  \n",
       "mean          0.453766         0.597324  \n",
       "std           0.497861         0.490439  \n",
       "min           0.000000         0.000000  \n",
       "25%           0.000000         0.000000  \n",
       "50%           0.000000         1.000000  \n",
       "75%           1.000000         1.000000  \n",
       "max           1.000000         1.000000  \n",
       "\n",
       "[8 rows x 115 columns]"
      ]
     },
     "execution_count": 5,
     "metadata": {},
     "output_type": "execute_result"
    }
   ],
   "source": [
    "df.describe()"
   ]
  },
  {
   "cell_type": "code",
   "execution_count": 6,
   "id": "832af70f",
   "metadata": {},
   "outputs": [
    {
     "data": {
      "text/plain": [
       "1405"
      ]
     },
     "execution_count": 6,
     "metadata": {},
     "output_type": "execute_result"
    }
   ],
   "source": [
    "df.duplicated().sum()"
   ]
  },
  {
   "cell_type": "code",
   "execution_count": 7,
   "id": "a424f44c",
   "metadata": {},
   "outputs": [],
   "source": [
    "#remove duplicate rows\n",
    "df.drop_duplicates(inplace=True)"
   ]
  },
  {
   "cell_type": "code",
   "execution_count": 8,
   "id": "42ba8ca8",
   "metadata": {},
   "outputs": [
    {
     "name": "stdout",
     "output_type": "stream",
     "text": [
      "<class 'pandas.core.frame.DataFrame'>\n",
      "Int64Index: 95508 entries, 0 to 96912\n",
      "Columns: 141 entries, grbno to w_mobileBanking\n",
      "dtypes: float64(91), int64(24), object(26)\n",
      "memory usage: 103.5+ MB\n"
     ]
    }
   ],
   "source": [
    "df.info()"
   ]
  },
  {
   "cell_type": "code",
   "execution_count": 9,
   "id": "079e9162",
   "metadata": {},
   "outputs": [],
   "source": [
    "pd.options.display.max_rows=150"
   ]
  },
  {
   "cell_type": "code",
   "execution_count": 10,
   "id": "43d2d7ac",
   "metadata": {},
   "outputs": [
    {
     "data": {
      "text/plain": [
       "grbno                           0\n",
       "acct_mob                        0\n",
       "age                           995\n",
       "annual_income_grb               4\n",
       "att_ind                         0\n",
       "bonds_avgbal                    0\n",
       "bonds_eopbal                    0\n",
       "bonds_eopbal2                   0\n",
       "bonds_prod_cnt                  0\n",
       "bond_ind                        0\n",
       "casa_avgbal                     0\n",
       "casa_eopbal                     0\n",
       "casa_ind                        0\n",
       "casa_only                    8865\n",
       "casa_prod_cnt                   0\n",
       "cbaw_prod_ind                   0\n",
       "onlineBanking_digital_30     8865\n",
       "onlineBanking_digital_60     8865\n",
       "onlineBanking_digital_90     8865\n",
       "ccy                             0\n",
       "cust_mob                        0\n",
       "digital                      8865\n",
       "domicile                        0\n",
       "dwn_ind                         0\n",
       "eopbal                          0\n",
       "eopbal2                         0\n",
       "eopbal_exfx                   382\n",
       "eopbal_exfx_exnav             382\n",
       "eopbal_exnav                    0\n",
       "funds_avgbal                    0\n",
       "funds_eopbal                    0\n",
       "funds_prod_cnt                  0\n",
       "fund_ind                        0\n",
       "foreign_add_ind                 0\n",
       "gender                        995\n",
       "geo                             0\n",
       "geo_cebu                     8865\n",
       "geo_expmmla                  8865\n",
       "geo_luzon                    8865\n",
       "geo_mmla                     8865\n",
       "geo_vismin                   8865\n",
       "holdind                         0\n",
       "ili_avgbal                      0\n",
       "ili_eopbal                      0\n",
       "ili_ind                         0\n",
       "ili_prod_cnt                    0\n",
       "individual                   8865\n",
       "ind_ca                      30505\n",
       "ind_sa                      30505\n",
       "insured_amt                 89782\n",
       "investment_avgbal               0\n",
       "investment_eopbal               0\n",
       "investment_eopbal2              0\n",
       "investment_prod_cnt             0\n",
       "invest_ind                      0\n",
       "joint_cnt                       0\n",
       "joint_ind                       0\n",
       "mobileBanking_digital_30     8865\n",
       "mobileBanking_digital_60     8865\n",
       "mobileBanking_digital_90     8865\n",
       "monthly_bank_cnr             8865\n",
       "monthly_card_cnr             8865\n",
       "monthly_nnm                  8865\n",
       "married                      8865\n",
       "nationality                   720\n",
       "never_bond                   8865\n",
       "never_fund                   8865\n",
       "never_ili                    8865\n",
       "never_invested               8865\n",
       "never_td                     8865\n",
       "no_of_accts                     0\n",
       "pol_prem_typ                89782\n",
       "prev_all                     8865\n",
       "prev_bond                    8865\n",
       "prev_fund                    8865\n",
       "prev_ili                     8865\n",
       "prev_inv                     8865\n",
       "prev_td                      8865\n",
       "product_1                       0\n",
       "product_2                       0\n",
       "product_3                       0\n",
       "product_4                       6\n",
       "product_5                     388\n",
       "prod_type                       0\n",
       "public_fig_ind                  0\n",
       "riskpro_flg                 45576\n",
       "risk_rating                 77769\n",
       "roll_ind                    94052\n",
       "segment                         0\n",
       "staffind                        0\n",
       "td_avgbal                       0\n",
       "td_eopbal                       0\n",
       "td_ind                          0\n",
       "td_prod_cnt                     0\n",
       "tenor_d                     94052\n",
       "tenor_m                     94052\n",
       "total_eop                       0\n",
       "total_eop2                      0\n",
       "trbcust_ili                     0\n",
       "trust_avgbal                  109\n",
       "trust_eopbal                  109\n",
       "trust_eopbal2                   0\n",
       "trust_ind                       0\n",
       "trust_prod_cnt                  0\n",
       "upg_ind                         0\n",
       "vip_tier                      117\n",
       "ave_ili_share                8865\n",
       "ave_bond_red                 8865\n",
       "ave_bond_redsale             8865\n",
       "ave_bond_sale                8865\n",
       "ave_bond_share               8865\n",
       "ave_bond_sub                 8865\n",
       "ave_casa_share               8865\n",
       "ave_fund_red                 8865\n",
       "ave_fund_redsale             8865\n",
       "ave_fund_sale                8865\n",
       "ave_fund_share               8865\n",
       "ave_fund_sub                 8865\n",
       "ave_ili_sale                 8865\n",
       "ave_ili_sub                  8865\n",
       "ave_td_share                 8865\n",
       "bond_active                  8865\n",
       "carded                       8865\n",
       "fund_active                  8865\n",
       "ili_active                   8865\n",
       "last_contacted              40759\n",
       "max_bond_red                 8865\n",
       "max_bond_sub                 8865\n",
       "max_fund_red                 8865\n",
       "max_fund_sub                 8865\n",
       "max_ili_sub                  8865\n",
       "occ1                         8865\n",
       "occ2                         8865\n",
       "occ3                         8865\n",
       "occ4                         8865\n",
       "occ5                         8865\n",
       "occ6                         8865\n",
       "occ7                         8865\n",
       "qb                           8865\n",
       "w_onlineBanking              8865\n",
       "w_mobileBanking              8865\n",
       "dtype: int64"
      ]
     },
     "execution_count": 10,
     "metadata": {},
     "output_type": "execute_result"
    }
   ],
   "source": [
    "#missing values\n",
    "df.isnull().sum()"
   ]
  },
  {
   "cell_type": "markdown",
   "id": "4d5612a4",
   "metadata": {},
   "source": [
    "Handling the missing values"
   ]
  },
  {
   "cell_type": "code",
   "execution_count": 11,
   "id": "116f1292",
   "metadata": {},
   "outputs": [],
   "source": [
    "from sklearn.impute import SimpleImputer\n",
    "imputer = SimpleImputer(missing_values=np.nan, strategy='mean')\n",
    "imputer.fit(df[['eopbal_exfx','eopbal_exfx_exnav','monthly_bank_cnr','monthly_card_cnr','monthly_nnm']])\n",
    "df[['eopbal_exfx','eopbal_exfx_exnav','monthly_bank_cnr','monthly_card_cnr','monthly_nnm']] = imputer.transform(df[['eopbal_exfx','eopbal_exfx_exnav','monthly_bank_cnr','monthly_card_cnr','monthly_nnm']])"
   ]
  },
  {
   "cell_type": "code",
   "execution_count": 12,
   "id": "34effac4",
   "metadata": {},
   "outputs": [],
   "source": [
    "imputer1 = SimpleImputer(missing_values=np.nan, strategy='most_frequent')\n",
    "imputer1.fit(df[['casa_only','onlineBanking_digital_30','onlineBanking_digital_60','onlineBanking_digital_90','digital','individual','ind_ca','mobileBanking_digital_30','mobileBanking_digital_60','mobileBanking_digital_90','never_bond','never_fund','never_ili','never_invested','never_td','prev_all','prev_bond','prev_fund','prev_ili','prev_inv','prev_td','trust_avgbal','trust_eopbal','ave_bond_red','ave_bond_redsale','ave_bond_sale','ave_bond_sub','ave_fund_red','ave_fund_redsale','ave_fund_sale','ave_fund_sub','ave_ili_sale','ave_ili_sub','bond_active','carded','fund_active','ili_active','max_bond_red','max_bond_sub','max_fund_red','max_fund_sub','max_ili_sub','occ1','occ2','occ3','occ4','occ5','occ6','occ7','qb','w_onlineBanking','w_mobileBanking']])\n",
    "df[['casa_only','onlineBanking_digital_30','onlineBanking_digital_60','onlineBanking_digital_90','digital','individual','ind_ca','mobileBanking_digital_30','mobileBanking_digital_60','mobileBanking_digital_90','never_bond','never_fund','never_ili','never_invested','never_td','prev_all','prev_bond','prev_fund','prev_ili','prev_inv','prev_td','trust_avgbal','trust_eopbal','ave_bond_red','ave_bond_redsale','ave_bond_sale','ave_bond_sub','ave_fund_red','ave_fund_redsale','ave_fund_sale','ave_fund_sub','ave_ili_sale','ave_ili_sub','bond_active','carded','fund_active','ili_active','max_bond_red','max_bond_sub','max_fund_red','max_fund_sub','max_ili_sub','occ1','occ2','occ3','occ4','occ5','occ6','occ7','qb','w_onlineBanking','w_mobileBanking']] = imputer1.transform(df[['casa_only','onlineBanking_digital_30','onlineBanking_digital_60','onlineBanking_digital_90','digital','individual','ind_ca','mobileBanking_digital_30','mobileBanking_digital_60','mobileBanking_digital_90','never_bond','never_fund','never_ili','never_invested','never_td','prev_all','prev_bond','prev_fund','prev_ili','prev_inv','prev_td','trust_avgbal','trust_eopbal','ave_bond_red','ave_bond_redsale','ave_bond_sale','ave_bond_sub','ave_fund_red','ave_fund_redsale','ave_fund_sale','ave_fund_sub','ave_ili_sale','ave_ili_sub','bond_active','carded','fund_active','ili_active','max_bond_red','max_bond_sub','max_fund_red','max_fund_sub','max_ili_sub','occ1','occ2','occ3','occ4','occ5','occ6','occ7','qb','w_onlineBanking','w_mobileBanking']])"
   ]
  },
  {
   "cell_type": "code",
   "execution_count": 13,
   "id": "1a37babb",
   "metadata": {},
   "outputs": [
    {
     "data": {
      "text/plain": [
       "count                                95508\n",
       "unique                               43254\n",
       "top       cc3a9f94a4d72df1eb212c398893bb23\n",
       "freq                                    71\n",
       "Name: grbno, dtype: object"
      ]
     },
     "execution_count": 13,
     "metadata": {},
     "output_type": "execute_result"
    }
   ],
   "source": [
    "df['grbno'].describe()"
   ]
  },
  {
   "cell_type": "markdown",
   "id": "0864c5d2",
   "metadata": {},
   "source": [
    "There are 95508 accounts which belongs to 43254 customers. Create another dataset for customers"
   ]
  },
  {
   "cell_type": "code",
   "execution_count": 79,
   "id": "652f9729",
   "metadata": {},
   "outputs": [],
   "source": [
    "df_customers = df.drop_duplicates(subset=['grbno'])"
   ]
  },
  {
   "cell_type": "code",
   "execution_count": 15,
   "id": "d2f7d43b",
   "metadata": {
    "scrolled": true
   },
   "outputs": [
    {
     "name": "stdout",
     "output_type": "stream",
     "text": [
      "<class 'pandas.core.frame.DataFrame'>\n",
      "Int64Index: 43254 entries, 0 to 96908\n",
      "Columns: 141 entries, grbno to w_mobileBanking\n",
      "dtypes: float64(91), int64(24), object(26)\n",
      "memory usage: 46.9+ MB\n"
     ]
    }
   ],
   "source": [
    "df_customers.info()"
   ]
  },
  {
   "cell_type": "code",
   "execution_count": 16,
   "id": "e962ee00",
   "metadata": {},
   "outputs": [],
   "source": [
    "#fill the missing values of age with average of all customers age\n",
    "df['age'].fillna(int(df_customers['age'].mean()), inplace=True)"
   ]
  },
  {
   "cell_type": "code",
   "execution_count": 112,
   "id": "cc925aa7",
   "metadata": {},
   "outputs": [
    {
     "data": {
      "text/plain": [
       "F    22893\n",
       "M    20361\n",
       "Name: gender, dtype: int64"
      ]
     },
     "execution_count": 112,
     "metadata": {},
     "output_type": "execute_result"
    }
   ],
   "source": [
    "df_customers['gender'].value_counts()"
   ]
  },
  {
   "cell_type": "code",
   "execution_count": 18,
   "id": "193d2788",
   "metadata": {},
   "outputs": [],
   "source": [
    "df['gender'].fillna('F',inplace=True)"
   ]
  },
  {
   "cell_type": "code",
   "execution_count": 19,
   "id": "cd06280f",
   "metadata": {},
   "outputs": [],
   "source": [
    "#An account can be either a CA or SA\n",
    "df['ind_sa'] = df['ind_ca'].replace({0:1, 1:0})"
   ]
  },
  {
   "cell_type": "code",
   "execution_count": 113,
   "id": "22ca4b97",
   "metadata": {
    "scrolled": true
   },
   "outputs": [
    {
     "data": {
      "text/plain": [
       "PH    39266\n",
       "US      832\n",
       "JP      423\n",
       "CN      333\n",
       "IN      328\n",
       "KR      223\n",
       "AU      207\n",
       "GB      190\n",
       "CA      162\n",
       "DE      106\n",
       "TW       96\n",
       "FR       85\n",
       "FI       85\n",
       "MY       79\n",
       "SG       68\n",
       "ID       63\n",
       "NL       60\n",
       "PK       52\n",
       "IT       49\n",
       "ES       48\n",
       "NZ       40\n",
       "TH       37\n",
       "HK       28\n",
       "CH       23\n",
       "MX       22\n",
       "SE       20\n",
       "VN       20\n",
       "AT       19\n",
       "BE       18\n",
       "DK       17\n",
       "NP       16\n",
       "IE       15\n",
       "LK       13\n",
       "KZ       12\n",
       "BD       12\n",
       "NO       12\n",
       "PT       11\n",
       "UZ       10\n",
       "IL       10\n",
       "KG        9\n",
       "TR        9\n",
       "CO        8\n",
       "BR        6\n",
       "ZA        5\n",
       "UA        5\n",
       "SA        5\n",
       "PL        5\n",
       "CR        4\n",
       "AR        4\n",
       "MM        4\n",
       "BT        3\n",
       "AZ        3\n",
       "TO        3\n",
       "BG        3\n",
       "EG        3\n",
       "TJ        3\n",
       "NG        3\n",
       "LB        2\n",
       "CZ        2\n",
       "KN        2\n",
       "MN        2\n",
       "AM        2\n",
       "FJ        2\n",
       "VU        2\n",
       "GR        2\n",
       "VE        2\n",
       "IO        2\n",
       "VG        2\n",
       "JO        2\n",
       "LA        2\n",
       "HU        2\n",
       "GE        2\n",
       "CL        2\n",
       "BN        1\n",
       "TM        1\n",
       "AF        1\n",
       "LV        1\n",
       "BH        1\n",
       "YE        1\n",
       "KE        1\n",
       "DZ        1\n",
       "AN        1\n",
       "IR        1\n",
       "PG        1\n",
       "IQ        1\n",
       "PE        1\n",
       "NI        1\n",
       "RU        1\n",
       "MD        1\n",
       "BB        1\n",
       "EC        1\n",
       "KW        1\n",
       "ME        1\n",
       "NR        1\n",
       "UY        1\n",
       "ET        1\n",
       "WS        1\n",
       "RS        1\n",
       "PS        1\n",
       "GH        1\n",
       "Name: nationality, dtype: int64"
      ]
     },
     "execution_count": 113,
     "metadata": {},
     "output_type": "execute_result"
    }
   ],
   "source": [
    "df_customers['nationality'].value_counts()"
   ]
  },
  {
   "cell_type": "code",
   "execution_count": 21,
   "id": "98839924",
   "metadata": {},
   "outputs": [],
   "source": [
    "df['nationality'].fillna('PH',inplace=True)"
   ]
  },
  {
   "cell_type": "code",
   "execution_count": 22,
   "id": "5b0d40ea",
   "metadata": {},
   "outputs": [],
   "source": [
    "df['pol_prem_typ'].fillna('No Premium',inplace=True)"
   ]
  },
  {
   "cell_type": "code",
   "execution_count": 23,
   "id": "df771cfa",
   "metadata": {},
   "outputs": [
    {
     "data": {
      "text/plain": [
       "LCY SA       32717\n",
       "LCY CA       14217\n",
       "FCY SA       11543\n",
       "LCY FUND      9676\n",
       "FCY CA        6520\n",
       "FCY FUND      6318\n",
       "LCY BOND      5953\n",
       "LCY ILI       3694\n",
       "FCY ILI       2032\n",
       "FCY BOND      1336\n",
       "LCY TD        1189\n",
       "FCY TD         267\n",
       "LCY TRUST       30\n",
       "FCY TRUST       10\n",
       "Name: product_4, dtype: int64"
      ]
     },
     "execution_count": 23,
     "metadata": {},
     "output_type": "execute_result"
    }
   ],
   "source": [
    "df['product_4'].value_counts()"
   ]
  },
  {
   "cell_type": "code",
   "execution_count": 24,
   "id": "80aa34fd",
   "metadata": {},
   "outputs": [],
   "source": [
    "df['product_4'].fillna('LCY SA',inplace=True)"
   ]
  },
  {
   "cell_type": "code",
   "execution_count": 25,
   "id": "f04429a1",
   "metadata": {},
   "outputs": [
    {
     "data": {
      "text/plain": [
       "PHP Savings/Now                             34373\n",
       "USD Savings Deposits                        16512\n",
       "PHP Online Savings                           9335\n",
       "P-006                                        4225\n",
       "PHP High Yield Savings                       3224\n",
       "ATRAM GLOBAL MULTI-ASSET INCOME FEEDER F     2484\n",
       "ATRAM ASIA EQUITY OPPORTUNITY FEEDER FUN     1633\n",
       "P-004                                        1467\n",
       "ATRAM US MULTI-ASSET INCOME FEEDER FUND      1283\n",
       "EUR Savings                                  1169\n",
       "ROP                                          1168\n",
       "PHP Time Deposits                            1127\n",
       "BPLAC PHSTRATEGI                             1083\n",
       "ALFM GLOBAL MULTI-ASSET INCOME FUND USD      1052\n",
       "ATRAM GLOBAL DIVIDEND FEEDER FUND             915\n",
       "ATRAM GLOBAL EQUITY OPPORTUNITY FEEDER F      682\n",
       "PRU PLINK MILLION PS IS                       593\n",
       "ATRAM GLOBAL TOTAL RETURN BOND FEEDER FU      492\n",
       "BPI INVEST PHILIPPINE EQUITY INDEX FUND       477\n",
       "ATRAM GLOBAL CONSUMER TRENDS FEEDER FUND      436\n",
       "MANU $ASEANOFF DLR IS                         434\n",
       "BPLAC DLIB                                    432\n",
       "ATRAM GLOBAL TECHNOLOGY FEEDER FUND           419\n",
       "ATRAM PHILIPPINE EQUITY OPPORTUNITY FUND      418\n",
       "BLACKROCK DYNAMIC HIGH INCOME FUND            412\n",
       "BPLAC HIP5PAY                                 402\n",
       "BPLAC USDGLOBAL                               387\n",
       "BPLAC PHBONDFUND                              340\n",
       "BLACKROCK SYSTEMATIC GLOBAL EQUITY HIGH       332\n",
       "BPI PHILIPPINE STOCK INDEX FUND               330\n",
       "ATRAM GLOBAL BOND INCOME FEEDER FUND PHP      316\n",
       "P-001                                         261\n",
       "USD Time Deposits                             256\n",
       "MANU PHGROWTHOF IS                            239\n",
       "BPLAC PLIB                                    222\n",
       "MANU $APACIFOFF DLR IS                        213\n",
       "BPLAC MW5PAY                                  207\n",
       "BGF GLOBAL MULTI-ASSET INCOME FUND USD A      205\n",
       "ALFM GLOBAL MULTI-ASSET INCOME FUND PHP       203\n",
       "ALLIANZ THEMATICA-AMG USD                     190\n",
       "ATRAM U.S. EQUITY OPPORTUNITY FEEDER FUN      180\n",
       "ODYSSEY PHILIPPINE HIGH CONVICTION EQUIT      173\n",
       "ATRKE PHILIPPINE BALANCED FUND, INC.          169\n",
       "BPLAC USDBOND                                 168\n",
       "ODYSSEY  PHILIPPINE EQUITY FUND               168\n",
       "F-009                                         168\n",
       "MANU PHDIVEROFF IS                            161\n",
       "UBS US TOTAL YIELD SUSTAINABLE FUND           155\n",
       "BPLAC DLIBADHOC                               141\n",
       "ATRAM EUROPEAN EQUITY OPPORTUNITY FEEDER      134\n",
       "ATRAM GLOBAL FINANCIALS FEEDER FUND           129\n",
       "ATRAM EMERGING MARKETS EQUITY FEEDER FUN      125\n",
       "ALLIANZ INCOME AND GROWTH FUND                124\n",
       "ATRAM GLOBAL ALLOCATION FEEDER FUND           123\n",
       "PRU PLINK MLNR DLR IS                         120\n",
       "ODYSSEY DIVERSIFIED BALANCED FUND             118\n",
       "ODYSSEY PHILIPPINE DOLLAR BOND FUND           113\n",
       "JPMORGAN ASIA PACIFIC INCOME FUND             104\n",
       "PHILAM STRATEGIC GROWTH FUND, INC              99\n",
       "PIMCO GLOBAL HIGH YIELD BOND FUND              96\n",
       "ALFM GROWTH FUND                               96\n",
       "ABERDEEN GLOBAL DYNAMIC DIVIDEND FUND          95\n",
       "MANU PHSECUREOF IS                             89\n",
       "JPMORGAN INVESTMENT FUNDS - GLOBAL INCOM       83\n",
       "BPLAC DLIBPLUS                                 81\n",
       "BPLAC HIP5PAYTOP                               80\n",
       "BGF SUSTAINABLE ENERGY FUND USD                77\n",
       "ODYSSEY ASIA PACIFIC HIGH DIVIDEND EQUIT       76\n",
       "ODYSSEY PESO BOND FUND                         76\n",
       "JPMORGAN ASIA EQUITY DIVIDEND FUND             75\n",
       "PIMCO GIS INCOME E USD INC                     61\n",
       "ALLIANZ DYNAMIC ASIAN HIGH YIELD BOND FU       61\n",
       "BLACKROCK WORLD HEALTH SCIENCE FUND            59\n",
       "SUN LIFE PROSPERITY DOLLAR ADVANTAGE FUN       57\n",
       "ODYSSEY DIVERSIFIED CAPITAL FUND               56\n",
       "MANU PHAFINCOME                                56\n",
       "ALLIANZ GLOBAL ARTIFICIAL INTELLIGENCE         54\n",
       "UBS CHINA ALLOCATION OPPORTUNITY FUND US       54\n",
       "PHP PRTD                                       54\n",
       "BPLAC FP5BAND2                                 51\n",
       "BPI INVEST U.S. EQUITY INDEX FEEDER FUND       48\n",
       "SCHRODERS ASIAN ASSET INCOME                   46\n",
       "BLACKROCK WORLD TECHNOLOGY FUND                44\n",
       "JPMORGAN GLOBAL HEALTH CARE FUND               43\n",
       "BPLAC PLIBADHOC                                43\n",
       "JPMORGAN EMERGING MARKETS DEBT FUND            42\n",
       "JPMORGAN INCOME FUND                           36\n",
       "BLACKROCK EUROPEAN EQUITY INCOME FUND A6       33\n",
       "UBS ASIAN HIGH YIELD BOND FUND                 33\n",
       "BLACKROCK WORLD FINANCIALS FUND                33\n",
       "IMANPZLOAN                                     30\n",
       "PAMI ASIA BALANCED FUND, INC.                  30\n",
       "BPLAC USDASIABAL                               29\n",
       "SCHRODER ISF EMERGING ASIA FUND (QB)           25\n",
       "BPLAC FP3BAND2                                 25\n",
       "ABERDEEN GLOBAL BOND FIXED MATURITY 2023       23\n",
       "JPM US TECHNOLOGY FUND                         21\n",
       "JPM PACIFIC TECHNOLOGY FUND                    21\n",
       "BGF ASIAN TIGER BOND FUND A6 (USD)             21\n",
       "ALLIANZ CHINA A SHARES FUND USD                21\n",
       "BPLAC HIP7PAY                                  20\n",
       "SCHRODER ISF GLOBAL CLIMATE CHANGE EQUIT       19\n",
       "PRU PIA ELITE - PESO                           19\n",
       "ALLIANZ US SHORT DURATION HIGH INCOME -        17\n",
       "BPLAC FP7BAND2                                 16\n",
       "JPM US AGGREGATE BOND A (MTH) - USD            14\n",
       "BPLAC HIP3PAY                                  14\n",
       "ODYSSEY PESO MEDIUM-TERM BOND FUND             14\n",
       "JPM ASIA GROWTH FUND USD                       13\n",
       "SCHRODER ISF GLOBAL CREDIT INCOME FUND         12\n",
       "UBS EUROPEAN GROWTH AND INCOME FUND USD        12\n",
       "BGF GLOBAL MULTI-ASSET INCOME FUND EUR-H       11\n",
       "JPM ASEAN EQUITY FUND USD (QB)                 11\n",
       "PHILAM DOLLAR BOND FUND, INC.                  11\n",
       "EUR Time Deposits                              11\n",
       "BPI INVEST SHORT TERM FUND                     10\n",
       "UBS ASIA ALLOCATION OPPORTUNITY FUND           10\n",
       "ATRAM EMERGING MARKETS BOND FEEDER FUND        10\n",
       "BPI INVEST EUROPEAN EQUITY FEEDER FUND         10\n",
       "OFA                                            10\n",
       "BLACKROCK WORLD GOLD FUND A2 USD               10\n",
       "MANU $SECUREOFF DLR IS                         10\n",
       "BPLAC FP7BAND1                                  9\n",
       "BPLAC MW10PAY                                   8\n",
       "SCHRODER SPECIAL SITUATIONS FUND FIXED M        8\n",
       "PHP Fixed Income TD - 11%                       8\n",
       "BPLAC FP3BAND1                                  8\n",
       "BPLAC DLIBPADHOC                                7\n",
       "BPI INVEST US EQUITY INDEX FEEDER FUND (        6\n",
       "BPLAC FP5BAND1                                  5\n",
       "BPLAC MW5ADHOC                                  3\n",
       "BPLAC HIP7PAYTOP                                3\n",
       "JPMORGAN GLOBAL EQUITY FUND                     3\n",
       "PHP PSA Peso Statement Savings                  2\n",
       "PIMCO GIS GLOBAL INVESTMENT GRADE CREDIT        2\n",
       "BPLAC MW7PAY                                    2\n",
       "MANU HWM                                        2\n",
       "PHILAM BOND FUND, INC.                          2\n",
       "PRU PLINK EXCT 10+ CNAFP                        1\n",
       "BPLAC HIP3ADHOC                                 1\n",
       "PRU PLINK EXT 5+ CNAFPC                         1\n",
       "BPLAC FP3B2ADHOC                                1\n",
       "Name: product_5, dtype: int64"
      ]
     },
     "execution_count": 25,
     "metadata": {},
     "output_type": "execute_result"
    }
   ],
   "source": [
    "df['product_5'].value_counts()"
   ]
  },
  {
   "cell_type": "code",
   "execution_count": 26,
   "id": "046ef690",
   "metadata": {},
   "outputs": [],
   "source": [
    "df['product_5'].fillna('PHP Savings/Now',inplace=True)"
   ]
  },
  {
   "cell_type": "code",
   "execution_count": 27,
   "id": "3f9bb914",
   "metadata": {},
   "outputs": [
    {
     "data": {
      "text/plain": [
       "N    71967\n",
       "Y    23424\n",
       "Name: vip_tier, dtype: int64"
      ]
     },
     "execution_count": 27,
     "metadata": {},
     "output_type": "execute_result"
    }
   ],
   "source": [
    "df['vip_tier'].value_counts()"
   ]
  },
  {
   "cell_type": "code",
   "execution_count": 28,
   "id": "af175653",
   "metadata": {},
   "outputs": [],
   "source": [
    "df['vip_tier'].fillna('N',inplace=True)"
   ]
  },
  {
   "cell_type": "code",
   "execution_count": 29,
   "id": "5bb92440",
   "metadata": {},
   "outputs": [],
   "source": [
    "df['annual_income_grb'].fillna(0,inplace=True)"
   ]
  },
  {
   "cell_type": "code",
   "execution_count": 30,
   "id": "6940a67a",
   "metadata": {},
   "outputs": [],
   "source": [
    "df['insured_amt'].fillna(0,inplace=True)"
   ]
  },
  {
   "cell_type": "code",
   "execution_count": 31,
   "id": "a8df3dfa",
   "metadata": {},
   "outputs": [
    {
     "data": {
      "text/plain": [
       "0.0    18404\n",
       "1.0    16759\n",
       "Name: married, dtype: int64"
      ]
     },
     "execution_count": 31,
     "metadata": {},
     "output_type": "execute_result"
    }
   ],
   "source": [
    "df_customers['married'].value_counts()"
   ]
  },
  {
   "cell_type": "code",
   "execution_count": 32,
   "id": "785126d2",
   "metadata": {},
   "outputs": [],
   "source": [
    "#2.0 -> unknown\n",
    "df['married'].fillna(2.0,inplace=True)"
   ]
  },
  {
   "cell_type": "markdown",
   "id": "491249f4",
   "metadata": {},
   "source": [
    "Perform EDA to get data insights"
   ]
  },
  {
   "cell_type": "code",
   "execution_count": 33,
   "id": "d57a7cf4",
   "metadata": {},
   "outputs": [
    {
     "data": {
      "text/plain": [
       "grbno             43254\n",
       "ccy                   8\n",
       "domicile             31\n",
       "gender                2\n",
       "geo                   6\n",
       "holdind               2\n",
       "nationality         100\n",
       "pol_prem_typ          3\n",
       "product_1             3\n",
       "product_2             6\n",
       "product_3            12\n",
       "product_4            14\n",
       "product_5           142\n",
       "prod_type           397\n",
       "public_fig_ind        2\n",
       "roll_ind              2\n",
       "segment               3\n",
       "staffind              3\n",
       "tenor_m               8\n",
       "vip_tier              2\n",
       "ave_ili_share      2516\n",
       "ave_bond_share     4187\n",
       "ave_casa_share     5402\n",
       "ave_fund_share     4282\n",
       "ave_td_share       1933\n",
       "last_contacted      215\n",
       "dtype: int64"
      ]
     },
     "execution_count": 33,
     "metadata": {},
     "output_type": "execute_result"
    }
   ],
   "source": [
    "df.select_dtypes(\"object\").nunique()"
   ]
  },
  {
   "cell_type": "code",
   "execution_count": 34,
   "id": "c70cae76",
   "metadata": {},
   "outputs": [
    {
     "data": {
      "text/plain": [
       "count    95508.000000\n",
       "mean        92.477594\n",
       "std         81.969696\n",
       "min          0.000000\n",
       "25%         32.000000\n",
       "50%         72.000000\n",
       "75%        123.000000\n",
       "max        845.000000\n",
       "Name: acct_mob, dtype: float64"
      ]
     },
     "execution_count": 34,
     "metadata": {},
     "output_type": "execute_result"
    }
   ],
   "source": [
    "df['acct_mob'].describe()"
   ]
  },
  {
   "cell_type": "code",
   "execution_count": 35,
   "id": "c0de6671",
   "metadata": {},
   "outputs": [
    {
     "data": {
      "text/html": [
       "<div>\n",
       "<style scoped>\n",
       "    .dataframe tbody tr th:only-of-type {\n",
       "        vertical-align: middle;\n",
       "    }\n",
       "\n",
       "    .dataframe tbody tr th {\n",
       "        vertical-align: top;\n",
       "    }\n",
       "\n",
       "    .dataframe thead th {\n",
       "        text-align: right;\n",
       "    }\n",
       "</style>\n",
       "<table border=\"1\" class=\"dataframe\">\n",
       "  <thead>\n",
       "    <tr style=\"text-align: right;\">\n",
       "      <th></th>\n",
       "      <th>grbno</th>\n",
       "      <th>acct_mob</th>\n",
       "      <th>age</th>\n",
       "      <th>annual_income_grb</th>\n",
       "      <th>att_ind</th>\n",
       "      <th>bonds_avgbal</th>\n",
       "      <th>bonds_eopbal</th>\n",
       "      <th>bonds_eopbal2</th>\n",
       "      <th>bonds_prod_cnt</th>\n",
       "      <th>bond_ind</th>\n",
       "      <th>...</th>\n",
       "      <th>occ1</th>\n",
       "      <th>occ2</th>\n",
       "      <th>occ3</th>\n",
       "      <th>occ4</th>\n",
       "      <th>occ5</th>\n",
       "      <th>occ6</th>\n",
       "      <th>occ7</th>\n",
       "      <th>qb</th>\n",
       "      <th>w_onlineBanking</th>\n",
       "      <th>w_mobileBanking</th>\n",
       "    </tr>\n",
       "  </thead>\n",
       "  <tbody>\n",
       "    <tr>\n",
       "      <th>65843</th>\n",
       "      <td>9e79a37e10738e9c464153950714d5f1</td>\n",
       "      <td>845</td>\n",
       "      <td>71.0</td>\n",
       "      <td>0.0</td>\n",
       "      <td>0</td>\n",
       "      <td>0.0</td>\n",
       "      <td>0.0</td>\n",
       "      <td>0.0</td>\n",
       "      <td>0</td>\n",
       "      <td>0</td>\n",
       "      <td>...</td>\n",
       "      <td>0.0</td>\n",
       "      <td>0.0</td>\n",
       "      <td>0.0</td>\n",
       "      <td>0.0</td>\n",
       "      <td>1.0</td>\n",
       "      <td>0.0</td>\n",
       "      <td>0.0</td>\n",
       "      <td>0.0</td>\n",
       "      <td>0.0</td>\n",
       "      <td>0.0</td>\n",
       "    </tr>\n",
       "  </tbody>\n",
       "</table>\n",
       "<p>1 rows × 141 columns</p>\n",
       "</div>"
      ],
      "text/plain": [
       "                                  grbno  acct_mob   age  annual_income_grb  \\\n",
       "65843  9e79a37e10738e9c464153950714d5f1       845  71.0                0.0   \n",
       "\n",
       "       att_ind  bonds_avgbal  bonds_eopbal  bonds_eopbal2  bonds_prod_cnt  \\\n",
       "65843        0           0.0           0.0            0.0               0   \n",
       "\n",
       "       bond_ind  ...  occ1  occ2  occ3  occ4  occ5  occ6  occ7   qb  \\\n",
       "65843         0  ...   0.0   0.0   0.0   0.0   1.0   0.0   0.0  0.0   \n",
       "\n",
       "       w_onlineBanking w_mobileBanking  \n",
       "65843              0.0             0.0  \n",
       "\n",
       "[1 rows x 141 columns]"
      ]
     },
     "execution_count": 35,
     "metadata": {},
     "output_type": "execute_result"
    }
   ],
   "source": [
    "#oldest account\n",
    "df[df['acct_mob']==845]"
   ]
  },
  {
   "cell_type": "code",
   "execution_count": 36,
   "id": "737245ae",
   "metadata": {},
   "outputs": [
    {
     "data": {
      "image/png": "[encoded data removed]",
      "text/plain": [
       "<Figure size 720x360 with 1 Axes>"
      ]
     },
     "metadata": {
      "needs_background": "light"
     },
     "output_type": "display_data"
    }
   ],
   "source": [
    "plt.figure(figsize=(10,5))\n",
    "sns.histplot(x='acct_mob', data=df)\n",
    "plt.show()"
   ]
  },
  {
   "cell_type": "code",
   "execution_count": 37,
   "id": "f937a7c5",
   "metadata": {},
   "outputs": [
    {
     "data": {
      "text/plain": [
       "0    95508\n",
       "Name: att_ind, dtype: int64"
      ]
     },
     "execution_count": 37,
     "metadata": {},
     "output_type": "execute_result"
    }
   ],
   "source": [
    "#No account is closed\n",
    "df['att_ind'].value_counts()"
   ]
  },
  {
   "cell_type": "code",
   "execution_count": 38,
   "id": "5e314031",
   "metadata": {},
   "outputs": [
    {
     "data": {
      "text/plain": [
       "F    22624\n",
       "M    20361\n",
       "Name: gender, dtype: int64"
      ]
     },
     "execution_count": 38,
     "metadata": {},
     "output_type": "execute_result"
    }
   ],
   "source": [
    "df_customers['gender'].value_counts()"
   ]
  },
  {
   "cell_type": "code",
   "execution_count": 39,
   "id": "166d6137",
   "metadata": {},
   "outputs": [
    {
     "data": {
      "image/png": "[encoded data removed]",
      "text/plain": [
       "<Figure size 504x360 with 1 Axes>"
      ]
     },
     "metadata": {
      "needs_background": "light"
     },
     "output_type": "display_data"
    }
   ],
   "source": [
    "plt.figure(figsize=(7,5))\n",
    "plt.title('Gender')\n",
    "ax=sns.countplot(data=df_customers,x='gender')\n",
    "ax.bar_label(ax.containers[0])\n",
    "plt.show()"
   ]
  },
  {
   "cell_type": "code",
   "execution_count": 40,
   "id": "12b71a05",
   "metadata": {},
   "outputs": [
    {
     "data": {
      "text/plain": [
       "count    4.325300e+04\n",
       "mean     5.144608e+05\n",
       "std      1.245712e+07\n",
       "min      0.000000e+00\n",
       "25%      0.000000e+00\n",
       "50%      0.000000e+00\n",
       "75%      0.000000e+00\n",
       "max      1.400100e+09\n",
       "Name: annual_income_grb, dtype: float64"
      ]
     },
     "execution_count": 40,
     "metadata": {},
     "output_type": "execute_result"
    }
   ],
   "source": [
    "df_customers['annual_income_grb'].describe()"
   ]
  },
  {
   "cell_type": "code",
   "execution_count": 41,
   "id": "b7d8f39c",
   "metadata": {},
   "outputs": [
    {
     "data": {
      "text/html": [
       "<div>\n",
       "<style scoped>\n",
       "    .dataframe tbody tr th:only-of-type {\n",
       "        vertical-align: middle;\n",
       "    }\n",
       "\n",
       "    .dataframe tbody tr th {\n",
       "        vertical-align: top;\n",
       "    }\n",
       "\n",
       "    .dataframe thead th {\n",
       "        text-align: right;\n",
       "    }\n",
       "</style>\n",
       "<table border=\"1\" class=\"dataframe\">\n",
       "  <thead>\n",
       "    <tr style=\"text-align: right;\">\n",
       "      <th></th>\n",
       "      <th>grbno</th>\n",
       "      <th>acct_mob</th>\n",
       "      <th>age</th>\n",
       "      <th>annual_income_grb</th>\n",
       "      <th>att_ind</th>\n",
       "      <th>bonds_avgbal</th>\n",
       "      <th>bonds_eopbal</th>\n",
       "      <th>bonds_eopbal2</th>\n",
       "      <th>bonds_prod_cnt</th>\n",
       "      <th>bond_ind</th>\n",
       "      <th>...</th>\n",
       "      <th>occ1</th>\n",
       "      <th>occ2</th>\n",
       "      <th>occ3</th>\n",
       "      <th>occ4</th>\n",
       "      <th>occ5</th>\n",
       "      <th>occ6</th>\n",
       "      <th>occ7</th>\n",
       "      <th>qb</th>\n",
       "      <th>w_onlineBanking</th>\n",
       "      <th>w_mobileBanking</th>\n",
       "    </tr>\n",
       "  </thead>\n",
       "  <tbody>\n",
       "    <tr>\n",
       "      <th>8341</th>\n",
       "      <td>e1ec5bcf177d0e002faa41bcd0ce93b2</td>\n",
       "      <td>37</td>\n",
       "      <td>32.0</td>\n",
       "      <td>1.400100e+09</td>\n",
       "      <td>0</td>\n",
       "      <td>0.0</td>\n",
       "      <td>0.0</td>\n",
       "      <td>0.0</td>\n",
       "      <td>0</td>\n",
       "      <td>0</td>\n",
       "      <td>...</td>\n",
       "      <td>0.0</td>\n",
       "      <td>0.0</td>\n",
       "      <td>0.0</td>\n",
       "      <td>1.0</td>\n",
       "      <td>0.0</td>\n",
       "      <td>0.0</td>\n",
       "      <td>0.0</td>\n",
       "      <td>0.0</td>\n",
       "      <td>1.0</td>\n",
       "      <td>1.0</td>\n",
       "    </tr>\n",
       "  </tbody>\n",
       "</table>\n",
       "<p>1 rows × 141 columns</p>\n",
       "</div>"
      ],
      "text/plain": [
       "                                 grbno  acct_mob   age  annual_income_grb  \\\n",
       "8341  e1ec5bcf177d0e002faa41bcd0ce93b2        37  32.0       1.400100e+09   \n",
       "\n",
       "      att_ind  bonds_avgbal  bonds_eopbal  bonds_eopbal2  bonds_prod_cnt  \\\n",
       "8341        0           0.0           0.0            0.0               0   \n",
       "\n",
       "      bond_ind  ...  occ1  occ2  occ3  occ4  occ5  occ6  occ7   qb  \\\n",
       "8341         0  ...   0.0   0.0   0.0   1.0   0.0   0.0   0.0  0.0   \n",
       "\n",
       "      w_onlineBanking w_mobileBanking  \n",
       "8341              1.0             1.0  \n",
       "\n",
       "[1 rows x 141 columns]"
      ]
     },
     "execution_count": 41,
     "metadata": {},
     "output_type": "execute_result"
    }
   ],
   "source": [
    "df[df['annual_income_grb']==1.400100e+09]"
   ]
  },
  {
   "cell_type": "code",
   "execution_count": 42,
   "id": "583a67a8",
   "metadata": {},
   "outputs": [
    {
     "data": {
      "text/plain": [
       "1    42855\n",
       "0      399\n",
       "Name: casa_ind, dtype: int64"
      ]
     },
     "execution_count": 42,
     "metadata": {},
     "output_type": "execute_result"
    }
   ],
   "source": [
    "df_customers['casa_ind'].value_counts()"
   ]
  },
  {
   "cell_type": "code",
   "execution_count": 43,
   "id": "8550144f",
   "metadata": {},
   "outputs": [
    {
     "data": {
      "image/png": "[encoded data removed]",
      "text/plain": [
       "<Figure size 360x360 with 1 Axes>"
      ]
     },
     "metadata": {
      "needs_background": "light"
     },
     "output_type": "display_data"
    }
   ],
   "source": [
    "plt.figure(figsize=(5,5))\n",
    "plt.title('Indicator that the customer has a CASA product')\n",
    "ax=sns.countplot(data=df_customers,x='casa_ind')\n",
    "ax.bar_label(ax.containers[0])\n",
    "plt.show()"
   ]
  },
  {
   "cell_type": "code",
   "execution_count": 44,
   "id": "d3f25412",
   "metadata": {},
   "outputs": [
    {
     "data": {
      "text/plain": [
       "1.0    24286\n",
       "0.0    18968\n",
       "Name: casa_only, dtype: int64"
      ]
     },
     "execution_count": 44,
     "metadata": {},
     "output_type": "execute_result"
    }
   ],
   "source": [
    "df_customers['casa_only'].value_counts()"
   ]
  },
  {
   "cell_type": "code",
   "execution_count": 45,
   "id": "47991f27",
   "metadata": {},
   "outputs": [
    {
     "data": {
      "image/png": "[encoded data removed]",
      "text/plain": [
       "<Figure size 360x360 with 1 Axes>"
      ]
     },
     "metadata": {
      "needs_background": "light"
     },
     "output_type": "display_data"
    }
   ],
   "source": [
    "plt.figure(figsize=(5,5))\n",
    "plt.title('No history of holding any products other than CASA for the last 5 years')\n",
    "ax=sns.countplot(data=df_customers,x='casa_only')\n",
    "ax.bar_label(ax.containers[0])\n",
    "plt.show()"
   ]
  },
  {
   "cell_type": "code",
   "execution_count": 46,
   "id": "043f7327",
   "metadata": {},
   "outputs": [
    {
     "data": {
      "text/plain": [
       "PHP    33308\n",
       "USD     9635\n",
       "EUR      252\n",
       "SGD       16\n",
       "AUD       13\n",
       "HKD       13\n",
       "GBP        9\n",
       "JPY        8\n",
       "Name: ccy, dtype: int64"
      ]
     },
     "execution_count": 46,
     "metadata": {},
     "output_type": "execute_result"
    }
   ],
   "source": [
    "df_customers['ccy'].value_counts()"
   ]
  },
  {
   "cell_type": "code",
   "execution_count": 47,
   "id": "87d7da5e",
   "metadata": {},
   "outputs": [
    {
     "data": {
      "image/png": "[encoded data removed]",
      "text/plain": [
       "<Figure size 720x360 with 1 Axes>"
      ]
     },
     "metadata": {
      "needs_background": "light"
     },
     "output_type": "display_data"
    }
   ],
   "source": [
    "plt.figure(figsize=(10,5))\n",
    "plt.title('currency used by customers')\n",
    "ax=sns.countplot(data=df_customers,x='ccy')\n",
    "ax.bar_label(ax.containers[0])\n",
    "plt.show()"
   ]
  },
  {
   "cell_type": "code",
   "execution_count": 48,
   "id": "733ecb96",
   "metadata": {},
   "outputs": [
    {
     "data": {
      "text/plain": [
       "count    43254.000000\n",
       "mean       120.182596\n",
       "std         95.575725\n",
       "min          7.000000\n",
       "25%         48.000000\n",
       "50%         95.000000\n",
       "75%        161.000000\n",
       "max        845.000000\n",
       "Name: cust_mob, dtype: float64"
      ]
     },
     "execution_count": 48,
     "metadata": {},
     "output_type": "execute_result"
    }
   ],
   "source": [
    "df_customers['cust_mob'].describe()"
   ]
  },
  {
   "cell_type": "code",
   "execution_count": 49,
   "id": "eb0c17bc",
   "metadata": {},
   "outputs": [
    {
     "name": "stderr",
     "output_type": "stream",
     "text": [
      "C:\\Users\\NIVAS\\AppData\\Local\\Programs\\Python\\Python39\\Scripts\\anaconda\\lib\\site-packages\\seaborn\\distributions.py:2619: FutureWarning: `distplot` is a deprecated function and will be removed in a future version. Please adapt your code to use either `displot` (a figure-level function with similar flexibility) or `histplot` (an axes-level function for histograms).\n",
      "  warnings.warn(msg, FutureWarning)\n"
     ]
    },
    {
     "data": {
      "image/png": "[encoded data removed]",
      "text/plain": [
       "<Figure size 720x360 with 1 Axes>"
      ]
     },
     "metadata": {
      "needs_background": "light"
     },
     "output_type": "display_data"
    }
   ],
   "source": [
    "plt.figure(figsize=(10,5))\n",
    "sns.distplot(df['cust_mob'])\n",
    "plt.show()"
   ]
  },
  {
   "cell_type": "code",
   "execution_count": 50,
   "id": "4165ce59",
   "metadata": {},
   "outputs": [
    {
     "data": {
      "text/plain": [
       "1.0    33431\n",
       "0.0     9823\n",
       "Name: digital, dtype: int64"
      ]
     },
     "execution_count": 50,
     "metadata": {},
     "output_type": "execute_result"
    }
   ],
   "source": [
    "df_customers['digital'].value_counts()"
   ]
  },
  {
   "cell_type": "code",
   "execution_count": 51,
   "id": "51e86b39",
   "metadata": {},
   "outputs": [
    {
     "data": {
      "image/png": "[encoded data removed]",
      "text/plain": [
       "<Figure size 360x360 with 1 Axes>"
      ]
     },
     "metadata": {
      "needs_background": "light"
     },
     "output_type": "display_data"
    }
   ],
   "source": [
    "plt.figure(figsize=(5,5))\n",
    "plt.title('Indicator that the customer has a Mobile Banking or online banking activated')\n",
    "ax=sns.countplot(data=df_customers,x='digital')\n",
    "ax.bar_label(ax.containers[0])\n",
    "plt.show()"
   ]
  },
  {
   "cell_type": "code",
   "execution_count": 52,
   "id": "4cacb99a",
   "metadata": {
    "scrolled": true
   },
   "outputs": [
    {
     "data": {
      "text/plain": [
       "PH    42883\n",
       "US      122\n",
       "JP       41\n",
       "AU       33\n",
       "SG       27\n",
       "CA       20\n",
       "KR       15\n",
       "DE       14\n",
       "GB       12\n",
       "HK       11\n",
       "MY       11\n",
       "TH       11\n",
       "TW        8\n",
       "CN        7\n",
       "NZ        7\n",
       "ID        6\n",
       "IT        4\n",
       "NL        4\n",
       "IN        4\n",
       "FR        3\n",
       "AT        1\n",
       "ES        1\n",
       "CO        1\n",
       "SE        1\n",
       "AE        1\n",
       "SA        1\n",
       "LT        1\n",
       "BH        1\n",
       "GU        1\n",
       "EG        1\n",
       "ZM        1\n",
       "Name: domicile, dtype: int64"
      ]
     },
     "execution_count": 52,
     "metadata": {},
     "output_type": "execute_result"
    }
   ],
   "source": [
    "df_customers['domicile'].value_counts()"
   ]
  },
  {
   "cell_type": "code",
   "execution_count": 53,
   "id": "92c55009",
   "metadata": {},
   "outputs": [
    {
     "data": {
      "text/plain": [
       "0    43192\n",
       "1       62\n",
       "Name: dwn_ind, dtype: int64"
      ]
     },
     "execution_count": 53,
     "metadata": {},
     "output_type": "execute_result"
    }
   ],
   "source": [
    "df_customers['dwn_ind'].value_counts()"
   ]
  },
  {
   "cell_type": "code",
   "execution_count": 54,
   "id": "ecd49d06",
   "metadata": {},
   "outputs": [
    {
     "data": {
      "text/plain": [
       "0    37869\n",
       "1     5385\n",
       "Name: fund_ind, dtype: int64"
      ]
     },
     "execution_count": 54,
     "metadata": {},
     "output_type": "execute_result"
    }
   ],
   "source": [
    "df_customers['fund_ind'].value_counts()"
   ]
  },
  {
   "cell_type": "code",
   "execution_count": 55,
   "id": "acf03983",
   "metadata": {},
   "outputs": [
    {
     "data": {
      "image/png": "[encoded data removed]",
      "text/plain": [
       "<Figure size 360x360 with 1 Axes>"
      ]
     },
     "metadata": {
      "needs_background": "light"
     },
     "output_type": "display_data"
    }
   ],
   "source": [
    "plt.figure(figsize=(5,5))\n",
    "plt.title('Indicator that the customer has a Mutual Fund product')\n",
    "ax=sns.countplot(data=df_customers,x='fund_ind')\n",
    "ax.bar_label(ax.containers[0])\n",
    "plt.show()"
   ]
  },
  {
   "cell_type": "code",
   "execution_count": 56,
   "id": "f3dae8b3",
   "metadata": {},
   "outputs": [
    {
     "data": {
      "text/plain": [
       "0    42761\n",
       "1      493\n",
       "Name: foreign_add_ind, dtype: int64"
      ]
     },
     "execution_count": 56,
     "metadata": {},
     "output_type": "execute_result"
    }
   ],
   "source": [
    "df_customers['foreign_add_ind'].value_counts()"
   ]
  },
  {
   "cell_type": "code",
   "execution_count": 57,
   "id": "30f8292d",
   "metadata": {},
   "outputs": [
    {
     "data": {
      "text/plain": [
       "MMla                                        33650\n",
       "EXP MMla: Bulacan, Rizal, Cavite, Laguna     4366\n",
       "In Cebu                                      1995\n",
       "Others In Luzon                              1497\n",
       "Others in Visayas or Mindanao                 977\n",
       "Others                                        769\n",
       "Name: geo, dtype: int64"
      ]
     },
     "execution_count": 57,
     "metadata": {},
     "output_type": "execute_result"
    }
   ],
   "source": [
    "df_customers['geo'].value_counts()"
   ]
  },
  {
   "cell_type": "code",
   "execution_count": 58,
   "id": "09213548",
   "metadata": {},
   "outputs": [
    {
     "data": {
      "image/png": "[encoded data removed]",
      "text/plain": [
       "<Figure size 720x360 with 1 Axes>"
      ]
     },
     "metadata": {
      "needs_background": "light"
     },
     "output_type": "display_data"
    }
   ],
   "source": [
    "plt.figure(figsize=(10,5))\n",
    "plt.title('Client Location Grouping')\n",
    "ax=sns.countplot(data=df_customers,x='geo')\n",
    "ax.bar_label(ax.containers[0])\n",
    "plt.xticks(rotation=60)\n",
    "plt.show()"
   ]
  },
  {
   "cell_type": "code",
   "execution_count": 59,
   "id": "f0636c06",
   "metadata": {},
   "outputs": [
    {
     "data": {
      "text/plain": [
       "N    42936\n",
       "Y      318\n",
       "Name: holdind, dtype: int64"
      ]
     },
     "execution_count": 59,
     "metadata": {},
     "output_type": "execute_result"
    }
   ],
   "source": [
    "df_customers['holdind'].value_counts()"
   ]
  },
  {
   "cell_type": "code",
   "execution_count": 60,
   "id": "2acab24d",
   "metadata": {},
   "outputs": [
    {
     "data": {
      "text/plain": [
       "1.0    42991\n",
       "0.0      263\n",
       "Name: individual, dtype: int64"
      ]
     },
     "execution_count": 60,
     "metadata": {},
     "output_type": "execute_result"
    }
   ],
   "source": [
    "df_customers['individual'].value_counts()"
   ]
  },
  {
   "cell_type": "code",
   "execution_count": 61,
   "id": "181a47a5",
   "metadata": {},
   "outputs": [
    {
     "data": {
      "text/plain": [
       "0    36124\n",
       "1     7130\n",
       "Name: invest_ind, dtype: int64"
      ]
     },
     "execution_count": 61,
     "metadata": {},
     "output_type": "execute_result"
    }
   ],
   "source": [
    "df_customers['invest_ind'].value_counts()"
   ]
  },
  {
   "cell_type": "code",
   "execution_count": 62,
   "id": "0d414b0a",
   "metadata": {},
   "outputs": [
    {
     "data": {
      "image/png": "[encoded data removed]",
      "text/plain": [
       "<Figure size 360x360 with 1 Axes>"
      ]
     },
     "metadata": {
      "needs_background": "light"
     },
     "output_type": "display_data"
    }
   ],
   "source": [
    "plt.figure(figsize=(5,5))\n",
    "plt.title('Investment Product Indicator')\n",
    "ax=sns.countplot(data=df_customers,x='invest_ind')\n",
    "ax.bar_label(ax.containers[0])\n",
    "plt.show()"
   ]
  },
  {
   "cell_type": "code",
   "execution_count": 63,
   "id": "4fe3d823",
   "metadata": {},
   "outputs": [
    {
     "data": {
      "text/plain": [
       "0"
      ]
     },
     "execution_count": 63,
     "metadata": {},
     "output_type": "execute_result"
    }
   ],
   "source": [
    "(df_customers['insured_amt']==0).sum()"
   ]
  },
  {
   "cell_type": "code",
   "execution_count": 64,
   "id": "bccb37b2",
   "metadata": {},
   "outputs": [
    {
     "data": {
      "text/plain": [
       "1     52163\n",
       "2     34516\n",
       "3      6372\n",
       "4      2000\n",
       "5       359\n",
       "6        78\n",
       "7        18\n",
       "10        1\n",
       "8         1\n",
       "Name: joint_cnt, dtype: int64"
      ]
     },
     "execution_count": 64,
     "metadata": {},
     "output_type": "execute_result"
    }
   ],
   "source": [
    "df['joint_cnt'].value_counts()"
   ]
  },
  {
   "cell_type": "code",
   "execution_count": 65,
   "id": "870b0875",
   "metadata": {
    "scrolled": false
   },
   "outputs": [
    {
     "data": {
      "image/png": "[encoded data removed]",
      "text/plain": [
       "<Figure size 720x360 with 1 Axes>"
      ]
     },
     "metadata": {
      "needs_background": "light"
     },
     "output_type": "display_data"
    }
   ],
   "source": [
    "plt.figure(figsize=(10,5))\n",
    "plt.title('Number of Joint Acounts')\n",
    "ax=sns.countplot(data=df,x='joint_cnt')\n",
    "ax.bar_label(ax.containers[0])\n",
    "plt.show()"
   ]
  },
  {
   "cell_type": "code",
   "execution_count": 66,
   "id": "371d23a0",
   "metadata": {},
   "outputs": [
    {
     "data": {
      "text/plain": [
       "0    52163\n",
       "1    43345\n",
       "Name: joint_ind, dtype: int64"
      ]
     },
     "execution_count": 66,
     "metadata": {},
     "output_type": "execute_result"
    }
   ],
   "source": [
    "df['joint_ind'].value_counts()"
   ]
  },
  {
   "cell_type": "code",
   "execution_count": 67,
   "id": "4f1ec134",
   "metadata": {},
   "outputs": [
    {
     "data": {
      "text/plain": [
       "100"
      ]
     },
     "execution_count": 67,
     "metadata": {},
     "output_type": "execute_result"
    }
   ],
   "source": [
    "df_customers['nationality'].nunique()"
   ]
  },
  {
   "cell_type": "code",
   "execution_count": 68,
   "id": "7ae3c17b",
   "metadata": {
    "scrolled": true
   },
   "outputs": [
    {
     "data": {
      "text/plain": [
       "PH    39069\n",
       "US      832\n",
       "JP      423\n",
       "CN      333\n",
       "IN      328\n",
       "KR      223\n",
       "AU      207\n",
       "GB      190\n",
       "CA      162\n",
       "DE      106\n",
       "TW       96\n",
       "FR       85\n",
       "FI       85\n",
       "MY       79\n",
       "SG       68\n",
       "ID       63\n",
       "NL       60\n",
       "PK       52\n",
       "IT       49\n",
       "ES       48\n",
       "NZ       40\n",
       "TH       37\n",
       "HK       28\n",
       "CH       23\n",
       "MX       22\n",
       "SE       20\n",
       "VN       20\n",
       "AT       19\n",
       "BE       18\n",
       "DK       17\n",
       "NP       16\n",
       "IE       15\n",
       "LK       13\n",
       "KZ       12\n",
       "BD       12\n",
       "NO       12\n",
       "PT       11\n",
       "UZ       10\n",
       "IL       10\n",
       "KG        9\n",
       "TR        9\n",
       "CO        8\n",
       "BR        6\n",
       "ZA        5\n",
       "UA        5\n",
       "SA        5\n",
       "PL        5\n",
       "CR        4\n",
       "AR        4\n",
       "MM        4\n",
       "BT        3\n",
       "AZ        3\n",
       "TO        3\n",
       "BG        3\n",
       "EG        3\n",
       "TJ        3\n",
       "NG        3\n",
       "LB        2\n",
       "CZ        2\n",
       "KN        2\n",
       "MN        2\n",
       "AM        2\n",
       "FJ        2\n",
       "VU        2\n",
       "GR        2\n",
       "VE        2\n",
       "IO        2\n",
       "VG        2\n",
       "JO        2\n",
       "LA        2\n",
       "HU        2\n",
       "GE        2\n",
       "CL        2\n",
       "BN        1\n",
       "TM        1\n",
       "AF        1\n",
       "LV        1\n",
       "BH        1\n",
       "YE        1\n",
       "KE        1\n",
       "DZ        1\n",
       "AN        1\n",
       "IR        1\n",
       "PG        1\n",
       "IQ        1\n",
       "PE        1\n",
       "NI        1\n",
       "RU        1\n",
       "MD        1\n",
       "BB        1\n",
       "EC        1\n",
       "KW        1\n",
       "ME        1\n",
       "NR        1\n",
       "UY        1\n",
       "ET        1\n",
       "WS        1\n",
       "RS        1\n",
       "PS        1\n",
       "GH        1\n",
       "Name: nationality, dtype: int64"
      ]
     },
     "execution_count": 68,
     "metadata": {},
     "output_type": "execute_result"
    }
   ],
   "source": [
    "df_customers['nationality'].value_counts()"
   ]
  },
  {
   "cell_type": "code",
   "execution_count": 69,
   "id": "293bcdb7",
   "metadata": {},
   "outputs": [
    {
     "data": {
      "text/plain": [
       "0.0    18404\n",
       "1.0    16759\n",
       "Name: married, dtype: int64"
      ]
     },
     "execution_count": 69,
     "metadata": {},
     "output_type": "execute_result"
    }
   ],
   "source": [
    "df_customers['married'].value_counts()"
   ]
  },
  {
   "cell_type": "code",
   "execution_count": 70,
   "id": "ad6cde51",
   "metadata": {},
   "outputs": [
    {
     "data": {
      "image/png": "[encoded data removed]",
      "text/plain": [
       "<Figure size 432x360 with 1 Axes>"
      ]
     },
     "metadata": {
      "needs_background": "light"
     },
     "output_type": "display_data"
    }
   ],
   "source": [
    "plt.figure(figsize=(6,5))\n",
    "plt.title('marital status indicator')\n",
    "ax=sns.countplot(data=df_customers,x='married')\n",
    "ax.bar_label(ax.containers[0])\n",
    "plt.show()"
   ]
  },
  {
   "cell_type": "code",
   "execution_count": 71,
   "id": "f2be6cd2",
   "metadata": {},
   "outputs": [
    {
     "data": {
      "text/plain": [
       "S    778\n",
       "R     82\n",
       "Name: pol_prem_typ, dtype: int64"
      ]
     },
     "execution_count": 71,
     "metadata": {},
     "output_type": "execute_result"
    }
   ],
   "source": [
    "df_customers['pol_prem_typ'].value_counts()"
   ]
  },
  {
   "cell_type": "code",
   "execution_count": 72,
   "id": "0e642bc1",
   "metadata": {},
   "outputs": [
    {
     "data": {
      "text/plain": [
       "0.0    38920\n",
       "1.0     4334\n",
       "Name: prev_all, dtype: int64"
      ]
     },
     "execution_count": 72,
     "metadata": {},
     "output_type": "execute_result"
    }
   ],
   "source": [
    "df_customers['prev_all'].value_counts()"
   ]
  },
  {
   "cell_type": "code",
   "execution_count": 73,
   "id": "57e3d9c8",
   "metadata": {},
   "outputs": [
    {
     "data": {
      "image/png": "[encoded data removed]",
      "text/plain": [
       "<Figure size 1440x720 with 6 Axes>"
      ]
     },
     "metadata": {
      "needs_background": "light"
     },
     "output_type": "display_data"
    }
   ],
   "source": [
    "plt.figure(figsize=(20,10))\n",
    "plt.subplot(2,3,1)\n",
    "plt.title('no current Investment holdings at all but had any type of previous investments')\n",
    "ax=sns.countplot(data=df_customers,x='prev_all')\n",
    "ax.bar_label(ax.containers[0])\n",
    "plt.subplot(2,3,2)\n",
    "plt.title('no current Bond holdings but had a Bond holdings in previous years')\n",
    "ax=sns.countplot(data=df_customers,x='prev_bond')\n",
    "ax.bar_label(ax.containers[0])\n",
    "plt.subplot(2,3,3)\n",
    "plt.title('no current Fund holdings but had a Fund holdings in previous years')\n",
    "ax=sns.countplot(data=df_customers,x='prev_fund')\n",
    "ax.bar_label(ax.containers[0])\n",
    "plt.subplot(2,3,4)\n",
    "plt.title('no current ILI holdings but had an ILI holdings in previous years')\n",
    "ax=sns.countplot(data=df_customers,x='prev_ili')\n",
    "ax.bar_label(ax.containers[0])\n",
    "plt.subplot(2,3,5)\n",
    "plt.title('no current Investment holdings but had an Investment holdings in previous years')\n",
    "ax=sns.countplot(data=df_customers,x='prev_inv')\n",
    "ax.bar_label(ax.containers[0])\n",
    "plt.subplot(2,3,6)\n",
    "plt.title('no current TD holdings but had a TD holdings in previous years')\n",
    "ax=sns.countplot(data=df_customers,x='prev_td')\n",
    "ax.bar_label(ax.containers[0])\n",
    "plt.show()"
   ]
  },
  {
   "cell_type": "code",
   "execution_count": 74,
   "id": "fca07292",
   "metadata": {},
   "outputs": [
    {
     "data": {
      "image/png": "[encoded data removed]",
      "text/plain": [
       "<Figure size 1800x1080 with 4 Axes>"
      ]
     },
     "metadata": {
      "needs_background": "light"
     },
     "output_type": "display_data"
    }
   ],
   "source": [
    "plt.figure(figsize=(25,15))\n",
    "plt.subplot(2,3,1)\n",
    "plt.title('Product Level 1 description')\n",
    "ax=sns.countplot(data=df,x='product_1')\n",
    "ax.bar_label(ax.containers[0])\n",
    "plt.subplot(2,3,2)\n",
    "plt.title('Product Level 2 description')\n",
    "ax=sns.countplot(data=df,x='product_2')\n",
    "ax.bar_label(ax.containers[0])\n",
    "plt.subplot(2,3,3)\n",
    "plt.title('Product Level 3 description')\n",
    "ax=sns.countplot(data=df,x='product_3')\n",
    "plt.xticks(rotation=90)\n",
    "ax.bar_label(ax.containers[0])\n",
    "plt.subplot(2,3,4)\n",
    "plt.title('Product Level 4 desciption')\n",
    "ax=sns.countplot(data=df,x='product_4')\n",
    "plt.xticks(rotation=90)\n",
    "ax.bar_label(ax.containers[0])\n",
    "plt.show()"
   ]
  },
  {
   "cell_type": "code",
   "execution_count": 75,
   "id": "fcb288e7",
   "metadata": {},
   "outputs": [
    {
     "data": {
      "text/plain": [
       "1.0    53038\n",
       "0.0    42470\n",
       "Name: carded, dtype: int64"
      ]
     },
     "execution_count": 75,
     "metadata": {},
     "output_type": "execute_result"
    }
   ],
   "source": [
    "df['carded'].value_counts()"
   ]
  },
  {
   "cell_type": "code",
   "execution_count": 76,
   "id": "f5c967d5",
   "metadata": {},
   "outputs": [
    {
     "data": {
      "image/png": "[encoded data removed]",
      "text/plain": [
       "<Figure size 360x360 with 1 Axes>"
      ]
     },
     "metadata": {
      "needs_background": "light"
     },
     "output_type": "display_data"
    }
   ],
   "source": [
    "plt.figure(figsize=(5,5))\n",
    "plt.title('With Credit Card indicator')\n",
    "ax=sns.countplot(data=df,x='carded')\n",
    "ax.bar_label(ax.containers[0])\n",
    "plt.show()"
   ]
  },
  {
   "cell_type": "code",
   "execution_count": 77,
   "id": "c97beea4",
   "metadata": {},
   "outputs": [
    {
     "data": {
      "text/html": [
       "<div>\n",
       "<style scoped>\n",
       "    .dataframe tbody tr th:only-of-type {\n",
       "        vertical-align: middle;\n",
       "    }\n",
       "\n",
       "    .dataframe tbody tr th {\n",
       "        vertical-align: top;\n",
       "    }\n",
       "\n",
       "    .dataframe thead th {\n",
       "        text-align: right;\n",
       "    }\n",
       "</style>\n",
       "<table border=\"1\" class=\"dataframe\">\n",
       "  <thead>\n",
       "    <tr style=\"text-align: right;\">\n",
       "      <th></th>\n",
       "      <th>grbno</th>\n",
       "      <th>acct_mob</th>\n",
       "      <th>age</th>\n",
       "      <th>annual_income_grb</th>\n",
       "      <th>att_ind</th>\n",
       "      <th>bonds_avgbal</th>\n",
       "      <th>bonds_eopbal</th>\n",
       "      <th>bonds_eopbal2</th>\n",
       "      <th>bonds_prod_cnt</th>\n",
       "      <th>bond_ind</th>\n",
       "      <th>...</th>\n",
       "      <th>occ2</th>\n",
       "      <th>occ3</th>\n",
       "      <th>occ4</th>\n",
       "      <th>occ5</th>\n",
       "      <th>occ6</th>\n",
       "      <th>occ7</th>\n",
       "      <th>qb</th>\n",
       "      <th>w_onlineBanking</th>\n",
       "      <th>w_mobileBanking</th>\n",
       "      <th>occupation</th>\n",
       "    </tr>\n",
       "  </thead>\n",
       "  <tbody>\n",
       "    <tr>\n",
       "      <th>0</th>\n",
       "      <td>6130952ea82fe5680d48c9aba86e79e4</td>\n",
       "      <td>201</td>\n",
       "      <td>59.0</td>\n",
       "      <td>4826460.0</td>\n",
       "      <td>0</td>\n",
       "      <td>0.0</td>\n",
       "      <td>0.0</td>\n",
       "      <td>0.0</td>\n",
       "      <td>0</td>\n",
       "      <td>0</td>\n",
       "      <td>...</td>\n",
       "      <td>0.0</td>\n",
       "      <td>1.0</td>\n",
       "      <td>0.0</td>\n",
       "      <td>0.0</td>\n",
       "      <td>0.0</td>\n",
       "      <td>0.0</td>\n",
       "      <td>0.0</td>\n",
       "      <td>0.0</td>\n",
       "      <td>1.0</td>\n",
       "      <td>Jr. or Sr. executive</td>\n",
       "    </tr>\n",
       "    <tr>\n",
       "      <th>1</th>\n",
       "      <td>6130952ea82fe5680d48c9aba86e79e4</td>\n",
       "      <td>201</td>\n",
       "      <td>59.0</td>\n",
       "      <td>4826460.0</td>\n",
       "      <td>0</td>\n",
       "      <td>0.0</td>\n",
       "      <td>0.0</td>\n",
       "      <td>0.0</td>\n",
       "      <td>0</td>\n",
       "      <td>0</td>\n",
       "      <td>...</td>\n",
       "      <td>0.0</td>\n",
       "      <td>1.0</td>\n",
       "      <td>0.0</td>\n",
       "      <td>0.0</td>\n",
       "      <td>0.0</td>\n",
       "      <td>0.0</td>\n",
       "      <td>0.0</td>\n",
       "      <td>0.0</td>\n",
       "      <td>1.0</td>\n",
       "      <td>Jr. or Sr. executive</td>\n",
       "    </tr>\n",
       "    <tr>\n",
       "      <th>2</th>\n",
       "      <td>e08a7797be0c8c6b4c672fb4893b5676</td>\n",
       "      <td>120</td>\n",
       "      <td>41.0</td>\n",
       "      <td>0.0</td>\n",
       "      <td>0</td>\n",
       "      <td>0.0</td>\n",
       "      <td>0.0</td>\n",
       "      <td>0.0</td>\n",
       "      <td>0</td>\n",
       "      <td>0</td>\n",
       "      <td>...</td>\n",
       "      <td>0.0</td>\n",
       "      <td>1.0</td>\n",
       "      <td>0.0</td>\n",
       "      <td>0.0</td>\n",
       "      <td>0.0</td>\n",
       "      <td>0.0</td>\n",
       "      <td>0.0</td>\n",
       "      <td>1.0</td>\n",
       "      <td>0.0</td>\n",
       "      <td>Jr. or Sr. executive</td>\n",
       "    </tr>\n",
       "    <tr>\n",
       "      <th>3</th>\n",
       "      <td>faf9adfaa0efaa9d3347b6650e7842c3</td>\n",
       "      <td>201</td>\n",
       "      <td>38.0</td>\n",
       "      <td>0.0</td>\n",
       "      <td>0</td>\n",
       "      <td>0.0</td>\n",
       "      <td>0.0</td>\n",
       "      <td>0.0</td>\n",
       "      <td>0</td>\n",
       "      <td>0</td>\n",
       "      <td>...</td>\n",
       "      <td>0.0</td>\n",
       "      <td>0.0</td>\n",
       "      <td>0.0</td>\n",
       "      <td>0.0</td>\n",
       "      <td>1.0</td>\n",
       "      <td>0.0</td>\n",
       "      <td>0.0</td>\n",
       "      <td>1.0</td>\n",
       "      <td>1.0</td>\n",
       "      <td>housewife</td>\n",
       "    </tr>\n",
       "    <tr>\n",
       "      <th>4</th>\n",
       "      <td>faf9adfaa0efaa9d3347b6650e7842c3</td>\n",
       "      <td>71</td>\n",
       "      <td>38.0</td>\n",
       "      <td>0.0</td>\n",
       "      <td>0</td>\n",
       "      <td>0.0</td>\n",
       "      <td>0.0</td>\n",
       "      <td>0.0</td>\n",
       "      <td>0</td>\n",
       "      <td>0</td>\n",
       "      <td>...</td>\n",
       "      <td>0.0</td>\n",
       "      <td>0.0</td>\n",
       "      <td>0.0</td>\n",
       "      <td>0.0</td>\n",
       "      <td>1.0</td>\n",
       "      <td>0.0</td>\n",
       "      <td>0.0</td>\n",
       "      <td>1.0</td>\n",
       "      <td>1.0</td>\n",
       "      <td>housewife</td>\n",
       "    </tr>\n",
       "  </tbody>\n",
       "</table>\n",
       "<p>5 rows × 142 columns</p>\n",
       "</div>"
      ],
      "text/plain": [
       "                              grbno  acct_mob   age  annual_income_grb  \\\n",
       "0  6130952ea82fe5680d48c9aba86e79e4       201  59.0          4826460.0   \n",
       "1  6130952ea82fe5680d48c9aba86e79e4       201  59.0          4826460.0   \n",
       "2  e08a7797be0c8c6b4c672fb4893b5676       120  41.0                0.0   \n",
       "3  faf9adfaa0efaa9d3347b6650e7842c3       201  38.0                0.0   \n",
       "4  faf9adfaa0efaa9d3347b6650e7842c3        71  38.0                0.0   \n",
       "\n",
       "   att_ind  bonds_avgbal  bonds_eopbal  bonds_eopbal2  bonds_prod_cnt  \\\n",
       "0        0           0.0           0.0            0.0               0   \n",
       "1        0           0.0           0.0            0.0               0   \n",
       "2        0           0.0           0.0            0.0               0   \n",
       "3        0           0.0           0.0            0.0               0   \n",
       "4        0           0.0           0.0            0.0               0   \n",
       "\n",
       "   bond_ind  ...  occ2  occ3  occ4  occ5  occ6  occ7   qb  w_onlineBanking  \\\n",
       "0         0  ...   0.0   1.0   0.0   0.0   0.0   0.0  0.0              0.0   \n",
       "1         0  ...   0.0   1.0   0.0   0.0   0.0   0.0  0.0              0.0   \n",
       "2         0  ...   0.0   1.0   0.0   0.0   0.0   0.0  0.0              1.0   \n",
       "3         0  ...   0.0   0.0   0.0   0.0   1.0   0.0  0.0              1.0   \n",
       "4         0  ...   0.0   0.0   0.0   0.0   1.0   0.0  0.0              1.0   \n",
       "\n",
       "   w_mobileBanking            occupation  \n",
       "0              1.0  Jr. or Sr. executive  \n",
       "1              1.0  Jr. or Sr. executive  \n",
       "2              0.0  Jr. or Sr. executive  \n",
       "3              1.0             housewife  \n",
       "4              1.0             housewife  \n",
       "\n",
       "[5 rows x 142 columns]"
      ]
     },
     "execution_count": 77,
     "metadata": {},
     "output_type": "execute_result"
    }
   ],
   "source": [
    "conditions=[(df['occ1']==1),\n",
    "            (df['occ2']==1),\n",
    "            (df['occ3']==1),\n",
    "            (df['occ4']==1),\n",
    "            (df['occ5']==1),\n",
    "            (df['occ6']==1),\n",
    "            (df['occ7']==1),]\n",
    "values=['proprietor or business owner','licensed professional','Jr. or Sr. executive','unlicensed professional','unemployed','housewife','BPO']\n",
    "df['occupation']=np.select(conditions,values)\n",
    "df.head()"
   ]
  },
  {
   "cell_type": "code",
   "execution_count": 80,
   "id": "92bef072",
   "metadata": {},
   "outputs": [
    {
     "data": {
      "text/plain": [
       "0                               13738\n",
       "Jr. or Sr. executive            11432\n",
       "unlicensed professional          7644\n",
       "unemployed                       3161\n",
       "licensed professional            2710\n",
       "BPO                              2207\n",
       "housewife                        1212\n",
       "proprietor or business owner     1150\n",
       "Name: occupation, dtype: int64"
      ]
     },
     "execution_count": 80,
     "metadata": {},
     "output_type": "execute_result"
    }
   ],
   "source": [
    "df_customers['occupation'].value_counts()"
   ]
  },
  {
   "cell_type": "code",
   "execution_count": 81,
   "id": "a39a3bab",
   "metadata": {},
   "outputs": [
    {
     "name": "stderr",
     "output_type": "stream",
     "text": [
      "C:\\Users\\NIVAS\\AppData\\Local\\Temp\\ipykernel_15928\\3327482172.py:1: SettingWithCopyWarning: \n",
      "A value is trying to be set on a copy of a slice from a DataFrame.\n",
      "Try using .loc[row_indexer,col_indexer] = value instead\n",
      "\n",
      "See the caveats in the documentation: https://pandas.pydata.org/pandas-docs/stable/user_guide/indexing.html#returning-a-view-versus-a-copy\n",
      "  df_customers['occupation']=df_customers['occupation'].str.replace('0','Others')\n"
     ]
    }
   ],
   "source": [
    "df_customers['occupation']=df_customers['occupation'].str.replace('0','Others')"
   ]
  },
  {
   "cell_type": "code",
   "execution_count": 82,
   "id": "5157db2a",
   "metadata": {},
   "outputs": [
    {
     "data": {
      "image/png": "[encoded data removed]",
      "text/plain": [
       "<Figure size 720x360 with 1 Axes>"
      ]
     },
     "metadata": {
      "needs_background": "light"
     },
     "output_type": "display_data"
    }
   ],
   "source": [
    "plt.figure(figsize=(10,5))\n",
    "plt.title('customer occupation')\n",
    "ax=sns.countplot(data=df_customers,x='occupation')\n",
    "ax.bar_label(ax.containers[0])\n",
    "plt.xticks(rotation=60)\n",
    "plt.show()"
   ]
  },
  {
   "cell_type": "code",
   "execution_count": 83,
   "id": "791dbc27",
   "metadata": {},
   "outputs": [
    {
     "data": {
      "image/png": "[encoded data removed]",
      "text/plain": [
       "<Figure size 360x720 with 2 Axes>"
      ]
     },
     "metadata": {
      "needs_background": "light"
     },
     "output_type": "display_data"
    }
   ],
   "source": [
    "plt.figure(figsize=(5,10))\n",
    "plt.subplot(2,1,1)\n",
    "plt.title('with bonds subscription and redemption  trades in the last 5 years indicator')\n",
    "ax=sns.countplot(data=df,x='bond_active')\n",
    "ax.bar_label(ax.containers[0])\n",
    "plt.subplot(2,1,2)\n",
    "plt.title('with funds subscription and redemption  trades in the last 5 years indicator')\n",
    "ax=sns.countplot(data=df,x='fund_active')\n",
    "ax.bar_label(ax.containers[0])\n",
    "plt.show()"
   ]
  },
  {
   "cell_type": "code",
   "execution_count": 84,
   "id": "ab060ab9",
   "metadata": {},
   "outputs": [
    {
     "data": {
      "text/plain": [
       "0.0    42571\n",
       "1.0      683\n",
       "Name: qb, dtype: int64"
      ]
     },
     "execution_count": 84,
     "metadata": {},
     "output_type": "execute_result"
    }
   ],
   "source": [
    "df_customers['qb'].value_counts()"
   ]
  },
  {
   "cell_type": "code",
   "execution_count": 85,
   "id": "7db851e0",
   "metadata": {},
   "outputs": [
    {
     "data": {
      "image/png": "[encoded data removed]",
      "text/plain": [
       "<Figure size 720x360 with 2 Axes>"
      ]
     },
     "metadata": {
      "needs_background": "light"
     },
     "output_type": "display_data"
    }
   ],
   "source": [
    "plt.figure(figsize=(10,5))\n",
    "plt.subplot(1,2,1)\n",
    "plt.title('With onlineBanking account Indicator')\n",
    "ax=sns.countplot(data=df_customers,x='w_onlineBanking')\n",
    "ax.bar_label(ax.containers[0])\n",
    "plt.subplot(1,2,2)\n",
    "plt.title('With mobileBanking account Indicator')\n",
    "ax=sns.countplot(data=df_customers,x='w_mobileBanking')\n",
    "ax.bar_label(ax.containers[0])\n",
    "plt.show()"
   ]
  },
  {
   "cell_type": "code",
   "execution_count": 86,
   "id": "4486370a",
   "metadata": {},
   "outputs": [],
   "source": [
    "share=['ave_ili_share','ave_bond_share','ave_td_share','ave_fund_share','ave_casa_share']\n",
    "for i in share:\n",
    "    df[i]=df[i].str.replace('%','')\n",
    "    df[i]=df[i].astype(float)"
   ]
  },
  {
   "cell_type": "code",
   "execution_count": 87,
   "id": "026f39d8",
   "metadata": {},
   "outputs": [
    {
     "data": {
      "image/png": "[encoded data removed]",
      "text/plain": [
       "<Figure size 1440x720 with 5 Axes>"
      ]
     },
     "metadata": {
      "needs_background": "light"
     },
     "output_type": "display_data"
    }
   ],
   "source": [
    "plt.figure(figsize=(20,10))\n",
    "plt.subplot(2,3,1)\n",
    "plt.title('Average ILI holding share for the past 5 years')\n",
    "plt.hist(df['ave_ili_share'])\n",
    "plt.subplot(2,3,2)\n",
    "plt.title('Average CASA holding share for the past 5 years')\n",
    "plt.hist(df['ave_casa_share'])\n",
    "plt.subplot(2,3,3)\n",
    "plt.title('Average Bond holding share for the past 5 years')\n",
    "plt.hist(df['ave_bond_share'])\n",
    "plt.subplot(2,3,4)\n",
    "plt.title('Average Fund holding share for the past 5 years')\n",
    "plt.hist(df['ave_fund_share'])\n",
    "plt.subplot(2,3,5)\n",
    "plt.title('Average TD holding share for the past 5 years')\n",
    "plt.hist(df['ave_td_share'])\n",
    "plt.show()"
   ]
  },
  {
   "cell_type": "code",
   "execution_count": 88,
   "id": "eec0f105",
   "metadata": {},
   "outputs": [
    {
     "data": {
      "text/plain": [
       "<AxesSubplot:xlabel='age', ylabel='no_of_accts'>"
      ]
     },
     "execution_count": 88,
     "metadata": {},
     "output_type": "execute_result"
    },
    {
     "data": {
      "image/png": "[encoded data removed]",
      "text/plain": [
       "<Figure size 432x288 with 1 Axes>"
      ]
     },
     "metadata": {
      "needs_background": "light"
     },
     "output_type": "display_data"
    }
   ],
   "source": [
    "sns.scatterplot(data=df_customers,x='age',y='no_of_accts')"
   ]
  },
  {
   "cell_type": "code",
   "execution_count": 89,
   "id": "2506e984",
   "metadata": {},
   "outputs": [
    {
     "data": {
      "text/plain": [
       "<AxesSubplot:xlabel='gender', ylabel='age'>"
      ]
     },
     "execution_count": 89,
     "metadata": {},
     "output_type": "execute_result"
    },
    {
     "data": {
      "image/png": "[encoded data removed]",
      "text/plain": [
       "<Figure size 432x288 with 1 Axes>"
      ]
     },
     "metadata": {
      "needs_background": "light"
     },
     "output_type": "display_data"
    }
   ],
   "source": [
    "sns.boxplot(data=df_customers,x='gender',y='age')"
   ]
  },
  {
   "cell_type": "code",
   "execution_count": 90,
   "id": "3cd61d20",
   "metadata": {},
   "outputs": [],
   "source": [
    "catglist=['ccy','domicile','gender','geo','holdind','nationality','pol_prem_typ','product_1','product_2','product_3','product_4','product_5','prod_type','public_fig_ind','segment','staffind','vip_tier','occupation']"
   ]
  },
  {
   "cell_type": "code",
   "execution_count": 91,
   "id": "3b42a8c6",
   "metadata": {},
   "outputs": [],
   "source": [
    "#encode the categorical variables\n",
    "from sklearn.preprocessing import LabelEncoder\n",
    "le = LabelEncoder()\n",
    "for feat in catglist:\n",
    "    df[feat]=le.fit_transform(df[feat])"
   ]
  },
  {
   "cell_type": "code",
   "execution_count": 97,
   "id": "ab57f425",
   "metadata": {},
   "outputs": [],
   "source": [
    "df.fillna(0,inplace=True)"
   ]
  },
  {
   "cell_type": "code",
   "execution_count": 98,
   "id": "9d5c2072",
   "metadata": {},
   "outputs": [],
   "source": [
    "df_features=df"
   ]
  },
  {
   "cell_type": "code",
   "execution_count": 99,
   "id": "0fbe7c7c",
   "metadata": {},
   "outputs": [],
   "source": [
    "df_features=df_features.drop(['grbno','att_ind','tenor_d','tenor_m','roll_ind','onlineBanking_digital_30','onlineBanking_digital_90','geo_cebu','geo_expmmla','geo_luzon','geo_mmla','geo_vismin','riskpro_flg','last_contacted','risk_rating','occ1','occ2','occ3','occ4','occ5','occ6','occ7'],axis=1)"
   ]
  },
  {
   "cell_type": "code",
   "execution_count": 100,
   "id": "2a70ff71",
   "metadata": {},
   "outputs": [
    {
     "data": {
      "image/png": "[encoded data removed]",
      "text/plain": [
       "<Figure size 432x288 with 1 Axes>"
      ]
     },
     "metadata": {
      "needs_background": "light"
     },
     "output_type": "display_data"
    }
   ],
   "source": [
    "#wcss method to find the suitable number of clusters\n",
    "from sklearn.cluster import KMeans\n",
    "wcss = []\n",
    "for i in range(1, 11):\n",
    "    kmeans = KMeans(n_clusters = i, init = 'k-means++', random_state = 42)\n",
    "    kmeans.fit(df_features)\n",
    "    wcss.append(kmeans.inertia_)\n",
    "plt.plot(range(1, 11), wcss)\n",
    "plt.title('The Elbow Method')\n",
    "plt.xlabel('Number of clusters')\n",
    "plt.ylabel('WCSS')\n",
    "plt.show()"
   ]
  },
  {
   "cell_type": "code",
   "execution_count": 101,
   "id": "9915a9b3",
   "metadata": {},
   "outputs": [],
   "source": [
    "kmeans = KMeans(n_clusters = 4, init = 'k-means++', random_state = 42)\n",
    "y_kmeans = kmeans.fit_predict(df_features)"
   ]
  },
  {
   "cell_type": "code",
   "execution_count": 102,
   "id": "0f710ea0",
   "metadata": {},
   "outputs": [
    {
     "data": {
      "text/plain": [
       "array([0, 0, 0, ..., 2, 2, 2])"
      ]
     },
     "execution_count": 102,
     "metadata": {},
     "output_type": "execute_result"
    }
   ],
   "source": [
    "y_kmeans"
   ]
  },
  {
   "cell_type": "code",
   "execution_count": 103,
   "id": "fd347ef6",
   "metadata": {},
   "outputs": [],
   "source": [
    "df['cluster']=y_kmeans"
   ]
  },
  {
   "cell_type": "code",
   "execution_count": 104,
   "id": "d1ed1a02",
   "metadata": {},
   "outputs": [
    {
     "data": {
      "text/html": [
       "<div>\n",
       "<style scoped>\n",
       "    .dataframe tbody tr th:only-of-type {\n",
       "        vertical-align: middle;\n",
       "    }\n",
       "\n",
       "    .dataframe tbody tr th {\n",
       "        vertical-align: top;\n",
       "    }\n",
       "\n",
       "    .dataframe thead th {\n",
       "        text-align: right;\n",
       "    }\n",
       "</style>\n",
       "<table border=\"1\" class=\"dataframe\">\n",
       "  <thead>\n",
       "    <tr style=\"text-align: right;\">\n",
       "      <th></th>\n",
       "      <th>grbno</th>\n",
       "      <th>acct_mob</th>\n",
       "      <th>age</th>\n",
       "      <th>annual_income_grb</th>\n",
       "      <th>att_ind</th>\n",
       "      <th>bonds_avgbal</th>\n",
       "      <th>bonds_eopbal</th>\n",
       "      <th>bonds_eopbal2</th>\n",
       "      <th>bonds_prod_cnt</th>\n",
       "      <th>bond_ind</th>\n",
       "      <th>...</th>\n",
       "      <th>occ3</th>\n",
       "      <th>occ4</th>\n",
       "      <th>occ5</th>\n",
       "      <th>occ6</th>\n",
       "      <th>occ7</th>\n",
       "      <th>qb</th>\n",
       "      <th>w_onlineBanking</th>\n",
       "      <th>w_mobileBanking</th>\n",
       "      <th>occupation</th>\n",
       "      <th>cluster</th>\n",
       "    </tr>\n",
       "  </thead>\n",
       "  <tbody>\n",
       "    <tr>\n",
       "      <th>0</th>\n",
       "      <td>6130952ea82fe5680d48c9aba86e79e4</td>\n",
       "      <td>201</td>\n",
       "      <td>59.0</td>\n",
       "      <td>4826460.0</td>\n",
       "      <td>0</td>\n",
       "      <td>0.0</td>\n",
       "      <td>0.0</td>\n",
       "      <td>0.0</td>\n",
       "      <td>0</td>\n",
       "      <td>0</td>\n",
       "      <td>...</td>\n",
       "      <td>1.0</td>\n",
       "      <td>0.0</td>\n",
       "      <td>0.0</td>\n",
       "      <td>0.0</td>\n",
       "      <td>0.0</td>\n",
       "      <td>0.0</td>\n",
       "      <td>0.0</td>\n",
       "      <td>1.0</td>\n",
       "      <td>2</td>\n",
       "      <td>0</td>\n",
       "    </tr>\n",
       "    <tr>\n",
       "      <th>1</th>\n",
       "      <td>6130952ea82fe5680d48c9aba86e79e4</td>\n",
       "      <td>201</td>\n",
       "      <td>59.0</td>\n",
       "      <td>4826460.0</td>\n",
       "      <td>0</td>\n",
       "      <td>0.0</td>\n",
       "      <td>0.0</td>\n",
       "      <td>0.0</td>\n",
       "      <td>0</td>\n",
       "      <td>0</td>\n",
       "      <td>...</td>\n",
       "      <td>1.0</td>\n",
       "      <td>0.0</td>\n",
       "      <td>0.0</td>\n",
       "      <td>0.0</td>\n",
       "      <td>0.0</td>\n",
       "      <td>0.0</td>\n",
       "      <td>0.0</td>\n",
       "      <td>1.0</td>\n",
       "      <td>2</td>\n",
       "      <td>0</td>\n",
       "    </tr>\n",
       "    <tr>\n",
       "      <th>2</th>\n",
       "      <td>e08a7797be0c8c6b4c672fb4893b5676</td>\n",
       "      <td>120</td>\n",
       "      <td>41.0</td>\n",
       "      <td>0.0</td>\n",
       "      <td>0</td>\n",
       "      <td>0.0</td>\n",
       "      <td>0.0</td>\n",
       "      <td>0.0</td>\n",
       "      <td>0</td>\n",
       "      <td>0</td>\n",
       "      <td>...</td>\n",
       "      <td>1.0</td>\n",
       "      <td>0.0</td>\n",
       "      <td>0.0</td>\n",
       "      <td>0.0</td>\n",
       "      <td>0.0</td>\n",
       "      <td>0.0</td>\n",
       "      <td>1.0</td>\n",
       "      <td>0.0</td>\n",
       "      <td>2</td>\n",
       "      <td>0</td>\n",
       "    </tr>\n",
       "    <tr>\n",
       "      <th>3</th>\n",
       "      <td>faf9adfaa0efaa9d3347b6650e7842c3</td>\n",
       "      <td>201</td>\n",
       "      <td>38.0</td>\n",
       "      <td>0.0</td>\n",
       "      <td>0</td>\n",
       "      <td>0.0</td>\n",
       "      <td>0.0</td>\n",
       "      <td>0.0</td>\n",
       "      <td>0</td>\n",
       "      <td>0</td>\n",
       "      <td>...</td>\n",
       "      <td>0.0</td>\n",
       "      <td>0.0</td>\n",
       "      <td>0.0</td>\n",
       "      <td>1.0</td>\n",
       "      <td>0.0</td>\n",
       "      <td>0.0</td>\n",
       "      <td>1.0</td>\n",
       "      <td>1.0</td>\n",
       "      <td>3</td>\n",
       "      <td>0</td>\n",
       "    </tr>\n",
       "    <tr>\n",
       "      <th>4</th>\n",
       "      <td>faf9adfaa0efaa9d3347b6650e7842c3</td>\n",
       "      <td>71</td>\n",
       "      <td>38.0</td>\n",
       "      <td>0.0</td>\n",
       "      <td>0</td>\n",
       "      <td>0.0</td>\n",
       "      <td>0.0</td>\n",
       "      <td>0.0</td>\n",
       "      <td>0</td>\n",
       "      <td>0</td>\n",
       "      <td>...</td>\n",
       "      <td>0.0</td>\n",
       "      <td>0.0</td>\n",
       "      <td>0.0</td>\n",
       "      <td>1.0</td>\n",
       "      <td>0.0</td>\n",
       "      <td>0.0</td>\n",
       "      <td>1.0</td>\n",
       "      <td>1.0</td>\n",
       "      <td>3</td>\n",
       "      <td>0</td>\n",
       "    </tr>\n",
       "  </tbody>\n",
       "</table>\n",
       "<p>5 rows × 143 columns</p>\n",
       "</div>"
      ],
      "text/plain": [
       "                              grbno  acct_mob   age  annual_income_grb  \\\n",
       "0  6130952ea82fe5680d48c9aba86e79e4       201  59.0          4826460.0   \n",
       "1  6130952ea82fe5680d48c9aba86e79e4       201  59.0          4826460.0   \n",
       "2  e08a7797be0c8c6b4c672fb4893b5676       120  41.0                0.0   \n",
       "3  faf9adfaa0efaa9d3347b6650e7842c3       201  38.0                0.0   \n",
       "4  faf9adfaa0efaa9d3347b6650e7842c3        71  38.0                0.0   \n",
       "\n",
       "   att_ind  bonds_avgbal  bonds_eopbal  bonds_eopbal2  bonds_prod_cnt  \\\n",
       "0        0           0.0           0.0            0.0               0   \n",
       "1        0           0.0           0.0            0.0               0   \n",
       "2        0           0.0           0.0            0.0               0   \n",
       "3        0           0.0           0.0            0.0               0   \n",
       "4        0           0.0           0.0            0.0               0   \n",
       "\n",
       "   bond_ind  ...  occ3  occ4  occ5  occ6  occ7   qb  w_onlineBanking  \\\n",
       "0         0  ...   1.0   0.0   0.0   0.0   0.0  0.0              0.0   \n",
       "1         0  ...   1.0   0.0   0.0   0.0   0.0  0.0              0.0   \n",
       "2         0  ...   1.0   0.0   0.0   0.0   0.0  0.0              1.0   \n",
       "3         0  ...   0.0   0.0   0.0   1.0   0.0  0.0              1.0   \n",
       "4         0  ...   0.0   0.0   0.0   1.0   0.0  0.0              1.0   \n",
       "\n",
       "   w_mobileBanking  occupation  cluster  \n",
       "0              1.0           2        0  \n",
       "1              1.0           2        0  \n",
       "2              0.0           2        0  \n",
       "3              1.0           3        0  \n",
       "4              1.0           3        0  \n",
       "\n",
       "[5 rows x 143 columns]"
      ]
     },
     "execution_count": 104,
     "metadata": {},
     "output_type": "execute_result"
    }
   ],
   "source": [
    "df.head()"
   ]
  },
  {
   "cell_type": "code",
   "execution_count": 105,
   "id": "9aff3beb",
   "metadata": {},
   "outputs": [
    {
     "data": {
      "text/plain": [
       "0    92091\n",
       "2     2951\n",
       "1      423\n",
       "3       43\n",
       "Name: cluster, dtype: int64"
      ]
     },
     "execution_count": 105,
     "metadata": {},
     "output_type": "execute_result"
    }
   ],
   "source": [
    "df['cluster'].value_counts()"
   ]
  },
  {
   "cell_type": "code",
   "execution_count": 106,
   "id": "a49725cc",
   "metadata": {},
   "outputs": [
    {
     "data": {
      "text/plain": [
       "0.8825006018795806"
      ]
     },
     "execution_count": 106,
     "metadata": {},
     "output_type": "execute_result"
    }
   ],
   "source": [
    "from sklearn.metrics import silhouette_score\n",
    "silhouette_score(df_features, kmeans.labels_, metric='euclidean')"
   ]
  },
  {
   "cell_type": "code",
   "execution_count": 107,
   "id": "56847d4e",
   "metadata": {},
   "outputs": [],
   "source": [
    "df_cluster1=df[df['cluster']==0]\n",
    "df_cluster2=df[df['cluster']==1]\n",
    "df_cluster3=df[df['cluster']==2]\n",
    "df_cluster4=df[df['cluster']==3]"
   ]
  },
  {
   "cell_type": "code",
   "execution_count": 108,
   "id": "7966b04f",
   "metadata": {},
   "outputs": [
    {
     "data": {
      "text/html": [
       "<div>\n",
       "<style scoped>\n",
       "    .dataframe tbody tr th:only-of-type {\n",
       "        vertical-align: middle;\n",
       "    }\n",
       "\n",
       "    .dataframe tbody tr th {\n",
       "        vertical-align: top;\n",
       "    }\n",
       "\n",
       "    .dataframe thead th {\n",
       "        text-align: right;\n",
       "    }\n",
       "</style>\n",
       "<table border=\"1\" class=\"dataframe\">\n",
       "  <thead>\n",
       "    <tr style=\"text-align: right;\">\n",
       "      <th></th>\n",
       "      <th>acct_mob</th>\n",
       "      <th>age</th>\n",
       "      <th>annual_income_grb</th>\n",
       "      <th>att_ind</th>\n",
       "      <th>bonds_avgbal</th>\n",
       "      <th>bonds_eopbal</th>\n",
       "      <th>bonds_eopbal2</th>\n",
       "      <th>bonds_prod_cnt</th>\n",
       "      <th>bond_ind</th>\n",
       "      <th>casa_avgbal</th>\n",
       "      <th>...</th>\n",
       "      <th>occ3</th>\n",
       "      <th>occ4</th>\n",
       "      <th>occ5</th>\n",
       "      <th>occ6</th>\n",
       "      <th>occ7</th>\n",
       "      <th>qb</th>\n",
       "      <th>w_onlineBanking</th>\n",
       "      <th>w_mobileBanking</th>\n",
       "      <th>occupation</th>\n",
       "      <th>cluster</th>\n",
       "    </tr>\n",
       "  </thead>\n",
       "  <tbody>\n",
       "    <tr>\n",
       "      <th>count</th>\n",
       "      <td>92091.000000</td>\n",
       "      <td>92091.000000</td>\n",
       "      <td>9.209100e+04</td>\n",
       "      <td>92091.0</td>\n",
       "      <td>9.209100e+04</td>\n",
       "      <td>9.209100e+04</td>\n",
       "      <td>9.209100e+04</td>\n",
       "      <td>92091.000000</td>\n",
       "      <td>92091.000000</td>\n",
       "      <td>9.209100e+04</td>\n",
       "      <td>...</td>\n",
       "      <td>92091.000000</td>\n",
       "      <td>92091.000000</td>\n",
       "      <td>92091.000000</td>\n",
       "      <td>92091.000000</td>\n",
       "      <td>92091.000000</td>\n",
       "      <td>92091.000000</td>\n",
       "      <td>92091.000000</td>\n",
       "      <td>92091.000000</td>\n",
       "      <td>92091.000000</td>\n",
       "      <td>92091.0</td>\n",
       "    </tr>\n",
       "    <tr>\n",
       "      <th>mean</th>\n",
       "      <td>93.636132</td>\n",
       "      <td>52.493588</td>\n",
       "      <td>7.032083e+05</td>\n",
       "      <td>0.0</td>\n",
       "      <td>1.727892e+06</td>\n",
       "      <td>1.727892e+06</td>\n",
       "      <td>1.757230e+06</td>\n",
       "      <td>0.583238</td>\n",
       "      <td>0.246354</td>\n",
       "      <td>2.202450e+06</td>\n",
       "      <td>...</td>\n",
       "      <td>0.267312</td>\n",
       "      <td>0.120674</td>\n",
       "      <td>0.126592</td>\n",
       "      <td>0.045520</td>\n",
       "      <td>0.024878</td>\n",
       "      <td>0.053675</td>\n",
       "      <td>0.409562</td>\n",
       "      <td>0.641159</td>\n",
       "      <td>2.859389</td>\n",
       "      <td>0.0</td>\n",
       "    </tr>\n",
       "    <tr>\n",
       "      <th>std</th>\n",
       "      <td>82.064740</td>\n",
       "      <td>15.823987</td>\n",
       "      <td>1.196098e+07</td>\n",
       "      <td>0.0</td>\n",
       "      <td>5.287814e+06</td>\n",
       "      <td>5.287814e+06</td>\n",
       "      <td>5.378068e+06</td>\n",
       "      <td>1.440169</td>\n",
       "      <td>0.430890</td>\n",
       "      <td>5.712398e+06</td>\n",
       "      <td>...</td>\n",
       "      <td>0.442559</td>\n",
       "      <td>0.325750</td>\n",
       "      <td>0.332517</td>\n",
       "      <td>0.208443</td>\n",
       "      <td>0.155753</td>\n",
       "      <td>0.225377</td>\n",
       "      <td>0.491756</td>\n",
       "      <td>0.479663</td>\n",
       "      <td>2.503819</td>\n",
       "      <td>0.0</td>\n",
       "    </tr>\n",
       "    <tr>\n",
       "      <th>min</th>\n",
       "      <td>0.000000</td>\n",
       "      <td>15.000000</td>\n",
       "      <td>0.000000e+00</td>\n",
       "      <td>0.0</td>\n",
       "      <td>0.000000e+00</td>\n",
       "      <td>0.000000e+00</td>\n",
       "      <td>0.000000e+00</td>\n",
       "      <td>0.000000</td>\n",
       "      <td>0.000000</td>\n",
       "      <td>-8.064933e+05</td>\n",
       "      <td>...</td>\n",
       "      <td>0.000000</td>\n",
       "      <td>0.000000</td>\n",
       "      <td>0.000000</td>\n",
       "      <td>0.000000</td>\n",
       "      <td>0.000000</td>\n",
       "      <td>0.000000</td>\n",
       "      <td>0.000000</td>\n",
       "      <td>0.000000</td>\n",
       "      <td>0.000000</td>\n",
       "      <td>0.0</td>\n",
       "    </tr>\n",
       "    <tr>\n",
       "      <th>25%</th>\n",
       "      <td>33.000000</td>\n",
       "      <td>39.000000</td>\n",
       "      <td>0.000000e+00</td>\n",
       "      <td>0.0</td>\n",
       "      <td>0.000000e+00</td>\n",
       "      <td>0.000000e+00</td>\n",
       "      <td>0.000000e+00</td>\n",
       "      <td>0.000000</td>\n",
       "      <td>0.000000</td>\n",
       "      <td>8.619510e+03</td>\n",
       "      <td>...</td>\n",
       "      <td>0.000000</td>\n",
       "      <td>0.000000</td>\n",
       "      <td>0.000000</td>\n",
       "      <td>0.000000</td>\n",
       "      <td>0.000000</td>\n",
       "      <td>0.000000</td>\n",
       "      <td>0.000000</td>\n",
       "      <td>0.000000</td>\n",
       "      <td>0.000000</td>\n",
       "      <td>0.0</td>\n",
       "    </tr>\n",
       "    <tr>\n",
       "      <th>50%</th>\n",
       "      <td>74.000000</td>\n",
       "      <td>52.000000</td>\n",
       "      <td>0.000000e+00</td>\n",
       "      <td>0.0</td>\n",
       "      <td>0.000000e+00</td>\n",
       "      <td>0.000000e+00</td>\n",
       "      <td>0.000000e+00</td>\n",
       "      <td>0.000000</td>\n",
       "      <td>0.000000</td>\n",
       "      <td>3.845260e+05</td>\n",
       "      <td>...</td>\n",
       "      <td>0.000000</td>\n",
       "      <td>0.000000</td>\n",
       "      <td>0.000000</td>\n",
       "      <td>0.000000</td>\n",
       "      <td>0.000000</td>\n",
       "      <td>0.000000</td>\n",
       "      <td>0.000000</td>\n",
       "      <td>1.000000</td>\n",
       "      <td>2.000000</td>\n",
       "      <td>0.0</td>\n",
       "    </tr>\n",
       "    <tr>\n",
       "      <th>75%</th>\n",
       "      <td>124.000000</td>\n",
       "      <td>64.000000</td>\n",
       "      <td>0.000000e+00</td>\n",
       "      <td>0.0</td>\n",
       "      <td>0.000000e+00</td>\n",
       "      <td>0.000000e+00</td>\n",
       "      <td>0.000000e+00</td>\n",
       "      <td>0.000000</td>\n",
       "      <td>0.000000</td>\n",
       "      <td>1.911796e+06</td>\n",
       "      <td>...</td>\n",
       "      <td>1.000000</td>\n",
       "      <td>0.000000</td>\n",
       "      <td>0.000000</td>\n",
       "      <td>0.000000</td>\n",
       "      <td>0.000000</td>\n",
       "      <td>0.000000</td>\n",
       "      <td>1.000000</td>\n",
       "      <td>1.000000</td>\n",
       "      <td>5.000000</td>\n",
       "      <td>0.0</td>\n",
       "    </tr>\n",
       "    <tr>\n",
       "      <th>max</th>\n",
       "      <td>845.000000</td>\n",
       "      <td>114.000000</td>\n",
       "      <td>1.400100e+09</td>\n",
       "      <td>0.0</td>\n",
       "      <td>7.459785e+07</td>\n",
       "      <td>7.459785e+07</td>\n",
       "      <td>7.659077e+07</td>\n",
       "      <td>15.000000</td>\n",
       "      <td>1.000000</td>\n",
       "      <td>1.368110e+08</td>\n",
       "      <td>...</td>\n",
       "      <td>1.000000</td>\n",
       "      <td>1.000000</td>\n",
       "      <td>1.000000</td>\n",
       "      <td>1.000000</td>\n",
       "      <td>1.000000</td>\n",
       "      <td>1.000000</td>\n",
       "      <td>1.000000</td>\n",
       "      <td>1.000000</td>\n",
       "      <td>7.000000</td>\n",
       "      <td>0.0</td>\n",
       "    </tr>\n",
       "  </tbody>\n",
       "</table>\n",
       "<p>8 rows × 139 columns</p>\n",
       "</div>"
      ],
      "text/plain": [
       "           acct_mob           age  annual_income_grb  att_ind  bonds_avgbal  \\\n",
       "count  92091.000000  92091.000000       9.209100e+04  92091.0  9.209100e+04   \n",
       "mean      93.636132     52.493588       7.032083e+05      0.0  1.727892e+06   \n",
       "std       82.064740     15.823987       1.196098e+07      0.0  5.287814e+06   \n",
       "min        0.000000     15.000000       0.000000e+00      0.0  0.000000e+00   \n",
       "25%       33.000000     39.000000       0.000000e+00      0.0  0.000000e+00   \n",
       "50%       74.000000     52.000000       0.000000e+00      0.0  0.000000e+00   \n",
       "75%      124.000000     64.000000       0.000000e+00      0.0  0.000000e+00   \n",
       "max      845.000000    114.000000       1.400100e+09      0.0  7.459785e+07   \n",
       "\n",
       "       bonds_eopbal  bonds_eopbal2  bonds_prod_cnt      bond_ind  \\\n",
       "count  9.209100e+04   9.209100e+04    92091.000000  92091.000000   \n",
       "mean   1.727892e+06   1.757230e+06        0.583238      0.246354   \n",
       "std    5.287814e+06   5.378068e+06        1.440169      0.430890   \n",
       "min    0.000000e+00   0.000000e+00        0.000000      0.000000   \n",
       "25%    0.000000e+00   0.000000e+00        0.000000      0.000000   \n",
       "50%    0.000000e+00   0.000000e+00        0.000000      0.000000   \n",
       "75%    0.000000e+00   0.000000e+00        0.000000      0.000000   \n",
       "max    7.459785e+07   7.659077e+07       15.000000      1.000000   \n",
       "\n",
       "        casa_avgbal  ...          occ3          occ4          occ5  \\\n",
       "count  9.209100e+04  ...  92091.000000  92091.000000  92091.000000   \n",
       "mean   2.202450e+06  ...      0.267312      0.120674      0.126592   \n",
       "std    5.712398e+06  ...      0.442559      0.325750      0.332517   \n",
       "min   -8.064933e+05  ...      0.000000      0.000000      0.000000   \n",
       "25%    8.619510e+03  ...      0.000000      0.000000      0.000000   \n",
       "50%    3.845260e+05  ...      0.000000      0.000000      0.000000   \n",
       "75%    1.911796e+06  ...      1.000000      0.000000      0.000000   \n",
       "max    1.368110e+08  ...      1.000000      1.000000      1.000000   \n",
       "\n",
       "               occ6          occ7            qb  w_onlineBanking  \\\n",
       "count  92091.000000  92091.000000  92091.000000     92091.000000   \n",
       "mean       0.045520      0.024878      0.053675         0.409562   \n",
       "std        0.208443      0.155753      0.225377         0.491756   \n",
       "min        0.000000      0.000000      0.000000         0.000000   \n",
       "25%        0.000000      0.000000      0.000000         0.000000   \n",
       "50%        0.000000      0.000000      0.000000         0.000000   \n",
       "75%        0.000000      0.000000      0.000000         1.000000   \n",
       "max        1.000000      1.000000      1.000000         1.000000   \n",
       "\n",
       "       w_mobileBanking    occupation  cluster  \n",
       "count     92091.000000  92091.000000  92091.0  \n",
       "mean          0.641159      2.859389      0.0  \n",
       "std           0.479663      2.503819      0.0  \n",
       "min           0.000000      0.000000      0.0  \n",
       "25%           0.000000      0.000000      0.0  \n",
       "50%           1.000000      2.000000      0.0  \n",
       "75%           1.000000      5.000000      0.0  \n",
       "max           1.000000      7.000000      0.0  \n",
       "\n",
       "[8 rows x 139 columns]"
      ]
     },
     "execution_count": 108,
     "metadata": {},
     "output_type": "execute_result"
    }
   ],
   "source": [
    "df_cluster1.describe()"
   ]
  },
  {
   "cell_type": "code",
   "execution_count": 109,
   "id": "f7acccf3",
   "metadata": {},
   "outputs": [
    {
     "data": {
      "text/html": [
       "<div>\n",
       "<style scoped>\n",
       "    .dataframe tbody tr th:only-of-type {\n",
       "        vertical-align: middle;\n",
       "    }\n",
       "\n",
       "    .dataframe tbody tr th {\n",
       "        vertical-align: top;\n",
       "    }\n",
       "\n",
       "    .dataframe thead th {\n",
       "        text-align: right;\n",
       "    }\n",
       "</style>\n",
       "<table border=\"1\" class=\"dataframe\">\n",
       "  <thead>\n",
       "    <tr style=\"text-align: right;\">\n",
       "      <th></th>\n",
       "      <th>acct_mob</th>\n",
       "      <th>age</th>\n",
       "      <th>annual_income_grb</th>\n",
       "      <th>att_ind</th>\n",
       "      <th>bonds_avgbal</th>\n",
       "      <th>bonds_eopbal</th>\n",
       "      <th>bonds_eopbal2</th>\n",
       "      <th>bonds_prod_cnt</th>\n",
       "      <th>bond_ind</th>\n",
       "      <th>casa_avgbal</th>\n",
       "      <th>...</th>\n",
       "      <th>occ3</th>\n",
       "      <th>occ4</th>\n",
       "      <th>occ5</th>\n",
       "      <th>occ6</th>\n",
       "      <th>occ7</th>\n",
       "      <th>qb</th>\n",
       "      <th>w_onlineBanking</th>\n",
       "      <th>w_mobileBanking</th>\n",
       "      <th>occupation</th>\n",
       "      <th>cluster</th>\n",
       "    </tr>\n",
       "  </thead>\n",
       "  <tbody>\n",
       "    <tr>\n",
       "      <th>count</th>\n",
       "      <td>423.000000</td>\n",
       "      <td>423.000000</td>\n",
       "      <td>4.230000e+02</td>\n",
       "      <td>423.0</td>\n",
       "      <td>4.230000e+02</td>\n",
       "      <td>4.230000e+02</td>\n",
       "      <td>4.230000e+02</td>\n",
       "      <td>423.000000</td>\n",
       "      <td>423.000000</td>\n",
       "      <td>4.230000e+02</td>\n",
       "      <td>...</td>\n",
       "      <td>423.000000</td>\n",
       "      <td>423.0</td>\n",
       "      <td>423.000000</td>\n",
       "      <td>423.0</td>\n",
       "      <td>423.0</td>\n",
       "      <td>423.000000</td>\n",
       "      <td>423.000000</td>\n",
       "      <td>423.000000</td>\n",
       "      <td>423.000000</td>\n",
       "      <td>423.0</td>\n",
       "    </tr>\n",
       "    <tr>\n",
       "      <th>mean</th>\n",
       "      <td>60.144208</td>\n",
       "      <td>60.735225</td>\n",
       "      <td>1.001129e+07</td>\n",
       "      <td>0.0</td>\n",
       "      <td>1.700677e+08</td>\n",
       "      <td>1.700677e+08</td>\n",
       "      <td>1.698505e+08</td>\n",
       "      <td>9.458629</td>\n",
       "      <td>0.865248</td>\n",
       "      <td>4.452213e+07</td>\n",
       "      <td>...</td>\n",
       "      <td>0.096927</td>\n",
       "      <td>0.0</td>\n",
       "      <td>0.061466</td>\n",
       "      <td>0.0</td>\n",
       "      <td>0.0</td>\n",
       "      <td>0.903073</td>\n",
       "      <td>0.588652</td>\n",
       "      <td>0.583924</td>\n",
       "      <td>2.028369</td>\n",
       "      <td>1.0</td>\n",
       "    </tr>\n",
       "    <tr>\n",
       "      <th>std</th>\n",
       "      <td>69.556316</td>\n",
       "      <td>12.922696</td>\n",
       "      <td>3.307546e+07</td>\n",
       "      <td>0.0</td>\n",
       "      <td>1.506732e+08</td>\n",
       "      <td>1.506732e+08</td>\n",
       "      <td>1.519365e+08</td>\n",
       "      <td>7.346700</td>\n",
       "      <td>0.341863</td>\n",
       "      <td>9.595577e+07</td>\n",
       "      <td>...</td>\n",
       "      <td>0.296208</td>\n",
       "      <td>0.0</td>\n",
       "      <td>0.240467</td>\n",
       "      <td>0.0</td>\n",
       "      <td>0.0</td>\n",
       "      <td>0.296208</td>\n",
       "      <td>0.492661</td>\n",
       "      <td>0.493490</td>\n",
       "      <td>2.414245</td>\n",
       "      <td>0.0</td>\n",
       "    </tr>\n",
       "    <tr>\n",
       "      <th>min</th>\n",
       "      <td>0.000000</td>\n",
       "      <td>29.000000</td>\n",
       "      <td>0.000000e+00</td>\n",
       "      <td>0.0</td>\n",
       "      <td>0.000000e+00</td>\n",
       "      <td>0.000000e+00</td>\n",
       "      <td>0.000000e+00</td>\n",
       "      <td>0.000000</td>\n",
       "      <td>0.000000</td>\n",
       "      <td>1.700700e+02</td>\n",
       "      <td>...</td>\n",
       "      <td>0.000000</td>\n",
       "      <td>0.0</td>\n",
       "      <td>0.000000</td>\n",
       "      <td>0.0</td>\n",
       "      <td>0.0</td>\n",
       "      <td>0.000000</td>\n",
       "      <td>0.000000</td>\n",
       "      <td>0.000000</td>\n",
       "      <td>0.000000</td>\n",
       "      <td>1.0</td>\n",
       "    </tr>\n",
       "    <tr>\n",
       "      <th>25%</th>\n",
       "      <td>19.000000</td>\n",
       "      <td>51.000000</td>\n",
       "      <td>0.000000e+00</td>\n",
       "      <td>0.0</td>\n",
       "      <td>9.305505e+07</td>\n",
       "      <td>9.305505e+07</td>\n",
       "      <td>9.107799e+07</td>\n",
       "      <td>3.000000</td>\n",
       "      <td>1.000000</td>\n",
       "      <td>5.739114e+06</td>\n",
       "      <td>...</td>\n",
       "      <td>0.000000</td>\n",
       "      <td>0.0</td>\n",
       "      <td>0.000000</td>\n",
       "      <td>0.0</td>\n",
       "      <td>0.0</td>\n",
       "      <td>1.000000</td>\n",
       "      <td>0.000000</td>\n",
       "      <td>0.000000</td>\n",
       "      <td>0.000000</td>\n",
       "      <td>1.0</td>\n",
       "    </tr>\n",
       "    <tr>\n",
       "      <th>50%</th>\n",
       "      <td>46.000000</td>\n",
       "      <td>60.000000</td>\n",
       "      <td>0.000000e+00</td>\n",
       "      <td>0.0</td>\n",
       "      <td>1.209645e+08</td>\n",
       "      <td>1.209645e+08</td>\n",
       "      <td>1.173348e+08</td>\n",
       "      <td>9.000000</td>\n",
       "      <td>1.000000</td>\n",
       "      <td>1.275111e+07</td>\n",
       "      <td>...</td>\n",
       "      <td>0.000000</td>\n",
       "      <td>0.0</td>\n",
       "      <td>0.000000</td>\n",
       "      <td>0.0</td>\n",
       "      <td>0.0</td>\n",
       "      <td>1.000000</td>\n",
       "      <td>1.000000</td>\n",
       "      <td>1.000000</td>\n",
       "      <td>0.000000</td>\n",
       "      <td>1.0</td>\n",
       "    </tr>\n",
       "    <tr>\n",
       "      <th>75%</th>\n",
       "      <td>73.000000</td>\n",
       "      <td>67.000000</td>\n",
       "      <td>0.000000e+00</td>\n",
       "      <td>0.0</td>\n",
       "      <td>2.971220e+08</td>\n",
       "      <td>2.971220e+08</td>\n",
       "      <td>3.029755e+08</td>\n",
       "      <td>12.000000</td>\n",
       "      <td>1.000000</td>\n",
       "      <td>4.404657e+07</td>\n",
       "      <td>...</td>\n",
       "      <td>0.000000</td>\n",
       "      <td>0.0</td>\n",
       "      <td>0.000000</td>\n",
       "      <td>0.0</td>\n",
       "      <td>0.0</td>\n",
       "      <td>1.000000</td>\n",
       "      <td>1.000000</td>\n",
       "      <td>1.000000</td>\n",
       "      <td>5.000000</td>\n",
       "      <td>1.0</td>\n",
       "    </tr>\n",
       "    <tr>\n",
       "      <th>max</th>\n",
       "      <td>671.000000</td>\n",
       "      <td>84.000000</td>\n",
       "      <td>1.200000e+08</td>\n",
       "      <td>0.0</td>\n",
       "      <td>4.904487e+08</td>\n",
       "      <td>4.904487e+08</td>\n",
       "      <td>4.961917e+08</td>\n",
       "      <td>23.000000</td>\n",
       "      <td>1.000000</td>\n",
       "      <td>6.623403e+08</td>\n",
       "      <td>...</td>\n",
       "      <td>1.000000</td>\n",
       "      <td>0.0</td>\n",
       "      <td>1.000000</td>\n",
       "      <td>0.0</td>\n",
       "      <td>0.0</td>\n",
       "      <td>1.000000</td>\n",
       "      <td>1.000000</td>\n",
       "      <td>1.000000</td>\n",
       "      <td>6.000000</td>\n",
       "      <td>1.0</td>\n",
       "    </tr>\n",
       "  </tbody>\n",
       "</table>\n",
       "<p>8 rows × 139 columns</p>\n",
       "</div>"
      ],
      "text/plain": [
       "         acct_mob         age  annual_income_grb  att_ind  bonds_avgbal  \\\n",
       "count  423.000000  423.000000       4.230000e+02    423.0  4.230000e+02   \n",
       "mean    60.144208   60.735225       1.001129e+07      0.0  1.700677e+08   \n",
       "std     69.556316   12.922696       3.307546e+07      0.0  1.506732e+08   \n",
       "min      0.000000   29.000000       0.000000e+00      0.0  0.000000e+00   \n",
       "25%     19.000000   51.000000       0.000000e+00      0.0  9.305505e+07   \n",
       "50%     46.000000   60.000000       0.000000e+00      0.0  1.209645e+08   \n",
       "75%     73.000000   67.000000       0.000000e+00      0.0  2.971220e+08   \n",
       "max    671.000000   84.000000       1.200000e+08      0.0  4.904487e+08   \n",
       "\n",
       "       bonds_eopbal  bonds_eopbal2  bonds_prod_cnt    bond_ind   casa_avgbal  \\\n",
       "count  4.230000e+02   4.230000e+02      423.000000  423.000000  4.230000e+02   \n",
       "mean   1.700677e+08   1.698505e+08        9.458629    0.865248  4.452213e+07   \n",
       "std    1.506732e+08   1.519365e+08        7.346700    0.341863  9.595577e+07   \n",
       "min    0.000000e+00   0.000000e+00        0.000000    0.000000  1.700700e+02   \n",
       "25%    9.305505e+07   9.107799e+07        3.000000    1.000000  5.739114e+06   \n",
       "50%    1.209645e+08   1.173348e+08        9.000000    1.000000  1.275111e+07   \n",
       "75%    2.971220e+08   3.029755e+08       12.000000    1.000000  4.404657e+07   \n",
       "max    4.904487e+08   4.961917e+08       23.000000    1.000000  6.623403e+08   \n",
       "\n",
       "       ...        occ3   occ4        occ5   occ6   occ7          qb  \\\n",
       "count  ...  423.000000  423.0  423.000000  423.0  423.0  423.000000   \n",
       "mean   ...    0.096927    0.0    0.061466    0.0    0.0    0.903073   \n",
       "std    ...    0.296208    0.0    0.240467    0.0    0.0    0.296208   \n",
       "min    ...    0.000000    0.0    0.000000    0.0    0.0    0.000000   \n",
       "25%    ...    0.000000    0.0    0.000000    0.0    0.0    1.000000   \n",
       "50%    ...    0.000000    0.0    0.000000    0.0    0.0    1.000000   \n",
       "75%    ...    0.000000    0.0    0.000000    0.0    0.0    1.000000   \n",
       "max    ...    1.000000    0.0    1.000000    0.0    0.0    1.000000   \n",
       "\n",
       "       w_onlineBanking  w_mobileBanking  occupation  cluster  \n",
       "count       423.000000       423.000000  423.000000    423.0  \n",
       "mean          0.588652         0.583924    2.028369      1.0  \n",
       "std           0.492661         0.493490    2.414245      0.0  \n",
       "min           0.000000         0.000000    0.000000      1.0  \n",
       "25%           0.000000         0.000000    0.000000      1.0  \n",
       "50%           1.000000         1.000000    0.000000      1.0  \n",
       "75%           1.000000         1.000000    5.000000      1.0  \n",
       "max           1.000000         1.000000    6.000000      1.0  \n",
       "\n",
       "[8 rows x 139 columns]"
      ]
     },
     "execution_count": 109,
     "metadata": {},
     "output_type": "execute_result"
    }
   ],
   "source": [
    "df_cluster2.describe()"
   ]
  },
  {
   "cell_type": "code",
   "execution_count": 110,
   "id": "a405668f",
   "metadata": {},
   "outputs": [
    {
     "data": {
      "text/html": [
       "<div>\n",
       "<style scoped>\n",
       "    .dataframe tbody tr th:only-of-type {\n",
       "        vertical-align: middle;\n",
       "    }\n",
       "\n",
       "    .dataframe tbody tr th {\n",
       "        vertical-align: top;\n",
       "    }\n",
       "\n",
       "    .dataframe thead th {\n",
       "        text-align: right;\n",
       "    }\n",
       "</style>\n",
       "<table border=\"1\" class=\"dataframe\">\n",
       "  <thead>\n",
       "    <tr style=\"text-align: right;\">\n",
       "      <th></th>\n",
       "      <th>acct_mob</th>\n",
       "      <th>age</th>\n",
       "      <th>annual_income_grb</th>\n",
       "      <th>att_ind</th>\n",
       "      <th>bonds_avgbal</th>\n",
       "      <th>bonds_eopbal</th>\n",
       "      <th>bonds_eopbal2</th>\n",
       "      <th>bonds_prod_cnt</th>\n",
       "      <th>bond_ind</th>\n",
       "      <th>casa_avgbal</th>\n",
       "      <th>...</th>\n",
       "      <th>occ3</th>\n",
       "      <th>occ4</th>\n",
       "      <th>occ5</th>\n",
       "      <th>occ6</th>\n",
       "      <th>occ7</th>\n",
       "      <th>qb</th>\n",
       "      <th>w_onlineBanking</th>\n",
       "      <th>w_mobileBanking</th>\n",
       "      <th>occupation</th>\n",
       "      <th>cluster</th>\n",
       "    </tr>\n",
       "  </thead>\n",
       "  <tbody>\n",
       "    <tr>\n",
       "      <th>count</th>\n",
       "      <td>2951.000000</td>\n",
       "      <td>2951.000000</td>\n",
       "      <td>2.951000e+03</td>\n",
       "      <td>2951.0</td>\n",
       "      <td>2.951000e+03</td>\n",
       "      <td>2.951000e+03</td>\n",
       "      <td>2.951000e+03</td>\n",
       "      <td>2951.000000</td>\n",
       "      <td>2951.000000</td>\n",
       "      <td>2.951000e+03</td>\n",
       "      <td>...</td>\n",
       "      <td>2951.000000</td>\n",
       "      <td>2951.000000</td>\n",
       "      <td>2951.000000</td>\n",
       "      <td>2951.000000</td>\n",
       "      <td>2951.0</td>\n",
       "      <td>2951.000000</td>\n",
       "      <td>2951.000000</td>\n",
       "      <td>2951.000000</td>\n",
       "      <td>2951.000000</td>\n",
       "      <td>2951.0</td>\n",
       "    </tr>\n",
       "    <tr>\n",
       "      <th>mean</th>\n",
       "      <td>61.901389</td>\n",
       "      <td>62.097594</td>\n",
       "      <td>1.275591e+06</td>\n",
       "      <td>0.0</td>\n",
       "      <td>4.201765e+07</td>\n",
       "      <td>4.201765e+07</td>\n",
       "      <td>4.267490e+07</td>\n",
       "      <td>4.994917</td>\n",
       "      <td>0.820400</td>\n",
       "      <td>2.028739e+07</td>\n",
       "      <td>...</td>\n",
       "      <td>0.137580</td>\n",
       "      <td>0.026432</td>\n",
       "      <td>0.129448</td>\n",
       "      <td>0.028804</td>\n",
       "      <td>0.0</td>\n",
       "      <td>0.783463</td>\n",
       "      <td>0.478482</td>\n",
       "      <td>0.532023</td>\n",
       "      <td>2.388343</td>\n",
       "      <td>2.0</td>\n",
       "    </tr>\n",
       "    <tr>\n",
       "      <th>std</th>\n",
       "      <td>73.492710</td>\n",
       "      <td>12.320218</td>\n",
       "      <td>4.988097e+06</td>\n",
       "      <td>0.0</td>\n",
       "      <td>5.102107e+07</td>\n",
       "      <td>5.102107e+07</td>\n",
       "      <td>5.205058e+07</td>\n",
       "      <td>5.106291</td>\n",
       "      <td>0.383919</td>\n",
       "      <td>4.794956e+07</td>\n",
       "      <td>...</td>\n",
       "      <td>0.344518</td>\n",
       "      <td>0.160443</td>\n",
       "      <td>0.335752</td>\n",
       "      <td>0.167283</td>\n",
       "      <td>0.0</td>\n",
       "      <td>0.411954</td>\n",
       "      <td>0.499621</td>\n",
       "      <td>0.499058</td>\n",
       "      <td>2.486367</td>\n",
       "      <td>0.0</td>\n",
       "    </tr>\n",
       "    <tr>\n",
       "      <th>min</th>\n",
       "      <td>0.000000</td>\n",
       "      <td>22.000000</td>\n",
       "      <td>0.000000e+00</td>\n",
       "      <td>0.0</td>\n",
       "      <td>0.000000e+00</td>\n",
       "      <td>0.000000e+00</td>\n",
       "      <td>0.000000e+00</td>\n",
       "      <td>0.000000</td>\n",
       "      <td>0.000000</td>\n",
       "      <td>0.000000e+00</td>\n",
       "      <td>...</td>\n",
       "      <td>0.000000</td>\n",
       "      <td>0.000000</td>\n",
       "      <td>0.000000</td>\n",
       "      <td>0.000000</td>\n",
       "      <td>0.0</td>\n",
       "      <td>0.000000</td>\n",
       "      <td>0.000000</td>\n",
       "      <td>0.000000</td>\n",
       "      <td>0.000000</td>\n",
       "      <td>2.0</td>\n",
       "    </tr>\n",
       "    <tr>\n",
       "      <th>25%</th>\n",
       "      <td>14.000000</td>\n",
       "      <td>53.000000</td>\n",
       "      <td>0.000000e+00</td>\n",
       "      <td>0.0</td>\n",
       "      <td>5.563500e+06</td>\n",
       "      <td>5.563500e+06</td>\n",
       "      <td>5.602542e+06</td>\n",
       "      <td>1.000000</td>\n",
       "      <td>1.000000</td>\n",
       "      <td>2.262158e+06</td>\n",
       "      <td>...</td>\n",
       "      <td>0.000000</td>\n",
       "      <td>0.000000</td>\n",
       "      <td>0.000000</td>\n",
       "      <td>0.000000</td>\n",
       "      <td>0.0</td>\n",
       "      <td>1.000000</td>\n",
       "      <td>0.000000</td>\n",
       "      <td>0.000000</td>\n",
       "      <td>0.000000</td>\n",
       "      <td>2.0</td>\n",
       "    </tr>\n",
       "    <tr>\n",
       "      <th>50%</th>\n",
       "      <td>36.000000</td>\n",
       "      <td>62.000000</td>\n",
       "      <td>0.000000e+00</td>\n",
       "      <td>0.0</td>\n",
       "      <td>2.679000e+07</td>\n",
       "      <td>2.679000e+07</td>\n",
       "      <td>2.712480e+07</td>\n",
       "      <td>4.000000</td>\n",
       "      <td>1.000000</td>\n",
       "      <td>6.055592e+06</td>\n",
       "      <td>...</td>\n",
       "      <td>0.000000</td>\n",
       "      <td>0.000000</td>\n",
       "      <td>0.000000</td>\n",
       "      <td>0.000000</td>\n",
       "      <td>0.0</td>\n",
       "      <td>1.000000</td>\n",
       "      <td>0.000000</td>\n",
       "      <td>1.000000</td>\n",
       "      <td>2.000000</td>\n",
       "      <td>2.0</td>\n",
       "    </tr>\n",
       "    <tr>\n",
       "      <th>75%</th>\n",
       "      <td>79.000000</td>\n",
       "      <td>70.000000</td>\n",
       "      <td>0.000000e+00</td>\n",
       "      <td>0.0</td>\n",
       "      <td>5.720816e+07</td>\n",
       "      <td>5.720816e+07</td>\n",
       "      <td>5.818858e+07</td>\n",
       "      <td>7.000000</td>\n",
       "      <td>1.000000</td>\n",
       "      <td>1.621192e+07</td>\n",
       "      <td>...</td>\n",
       "      <td>0.000000</td>\n",
       "      <td>0.000000</td>\n",
       "      <td>0.000000</td>\n",
       "      <td>0.000000</td>\n",
       "      <td>0.0</td>\n",
       "      <td>1.000000</td>\n",
       "      <td>1.000000</td>\n",
       "      <td>1.000000</td>\n",
       "      <td>5.000000</td>\n",
       "      <td>2.0</td>\n",
       "    </tr>\n",
       "    <tr>\n",
       "      <th>max</th>\n",
       "      <td>552.000000</td>\n",
       "      <td>90.000000</td>\n",
       "      <td>4.374726e+07</td>\n",
       "      <td>0.0</td>\n",
       "      <td>2.761500e+08</td>\n",
       "      <td>2.761500e+08</td>\n",
       "      <td>2.774597e+08</td>\n",
       "      <td>27.000000</td>\n",
       "      <td>1.000000</td>\n",
       "      <td>5.425297e+08</td>\n",
       "      <td>...</td>\n",
       "      <td>1.000000</td>\n",
       "      <td>1.000000</td>\n",
       "      <td>1.000000</td>\n",
       "      <td>1.000000</td>\n",
       "      <td>0.0</td>\n",
       "      <td>1.000000</td>\n",
       "      <td>1.000000</td>\n",
       "      <td>1.000000</td>\n",
       "      <td>7.000000</td>\n",
       "      <td>2.0</td>\n",
       "    </tr>\n",
       "  </tbody>\n",
       "</table>\n",
       "<p>8 rows × 139 columns</p>\n",
       "</div>"
      ],
      "text/plain": [
       "          acct_mob          age  annual_income_grb  att_ind  bonds_avgbal  \\\n",
       "count  2951.000000  2951.000000       2.951000e+03   2951.0  2.951000e+03   \n",
       "mean     61.901389    62.097594       1.275591e+06      0.0  4.201765e+07   \n",
       "std      73.492710    12.320218       4.988097e+06      0.0  5.102107e+07   \n",
       "min       0.000000    22.000000       0.000000e+00      0.0  0.000000e+00   \n",
       "25%      14.000000    53.000000       0.000000e+00      0.0  5.563500e+06   \n",
       "50%      36.000000    62.000000       0.000000e+00      0.0  2.679000e+07   \n",
       "75%      79.000000    70.000000       0.000000e+00      0.0  5.720816e+07   \n",
       "max     552.000000    90.000000       4.374726e+07      0.0  2.761500e+08   \n",
       "\n",
       "       bonds_eopbal  bonds_eopbal2  bonds_prod_cnt     bond_ind   casa_avgbal  \\\n",
       "count  2.951000e+03   2.951000e+03     2951.000000  2951.000000  2.951000e+03   \n",
       "mean   4.201765e+07   4.267490e+07        4.994917     0.820400  2.028739e+07   \n",
       "std    5.102107e+07   5.205058e+07        5.106291     0.383919  4.794956e+07   \n",
       "min    0.000000e+00   0.000000e+00        0.000000     0.000000  0.000000e+00   \n",
       "25%    5.563500e+06   5.602542e+06        1.000000     1.000000  2.262158e+06   \n",
       "50%    2.679000e+07   2.712480e+07        4.000000     1.000000  6.055592e+06   \n",
       "75%    5.720816e+07   5.818858e+07        7.000000     1.000000  1.621192e+07   \n",
       "max    2.761500e+08   2.774597e+08       27.000000     1.000000  5.425297e+08   \n",
       "\n",
       "       ...         occ3         occ4         occ5         occ6    occ7  \\\n",
       "count  ...  2951.000000  2951.000000  2951.000000  2951.000000  2951.0   \n",
       "mean   ...     0.137580     0.026432     0.129448     0.028804     0.0   \n",
       "std    ...     0.344518     0.160443     0.335752     0.167283     0.0   \n",
       "min    ...     0.000000     0.000000     0.000000     0.000000     0.0   \n",
       "25%    ...     0.000000     0.000000     0.000000     0.000000     0.0   \n",
       "50%    ...     0.000000     0.000000     0.000000     0.000000     0.0   \n",
       "75%    ...     0.000000     0.000000     0.000000     0.000000     0.0   \n",
       "max    ...     1.000000     1.000000     1.000000     1.000000     0.0   \n",
       "\n",
       "                qb  w_onlineBanking  w_mobileBanking   occupation  cluster  \n",
       "count  2951.000000      2951.000000      2951.000000  2951.000000   2951.0  \n",
       "mean      0.783463         0.478482         0.532023     2.388343      2.0  \n",
       "std       0.411954         0.499621         0.499058     2.486367      0.0  \n",
       "min       0.000000         0.000000         0.000000     0.000000      2.0  \n",
       "25%       1.000000         0.000000         0.000000     0.000000      2.0  \n",
       "50%       1.000000         0.000000         1.000000     2.000000      2.0  \n",
       "75%       1.000000         1.000000         1.000000     5.000000      2.0  \n",
       "max       1.000000         1.000000         1.000000     7.000000      2.0  \n",
       "\n",
       "[8 rows x 139 columns]"
      ]
     },
     "execution_count": 110,
     "metadata": {},
     "output_type": "execute_result"
    }
   ],
   "source": [
    "df_cluster3.describe()"
   ]
  },
  {
   "cell_type": "code",
   "execution_count": 111,
   "id": "04d2ca90",
   "metadata": {},
   "outputs": [
    {
     "data": {
      "text/html": [
       "<div>\n",
       "<style scoped>\n",
       "    .dataframe tbody tr th:only-of-type {\n",
       "        vertical-align: middle;\n",
       "    }\n",
       "\n",
       "    .dataframe tbody tr th {\n",
       "        vertical-align: top;\n",
       "    }\n",
       "\n",
       "    .dataframe thead th {\n",
       "        text-align: right;\n",
       "    }\n",
       "</style>\n",
       "<table border=\"1\" class=\"dataframe\">\n",
       "  <thead>\n",
       "    <tr style=\"text-align: right;\">\n",
       "      <th></th>\n",
       "      <th>acct_mob</th>\n",
       "      <th>age</th>\n",
       "      <th>annual_income_grb</th>\n",
       "      <th>att_ind</th>\n",
       "      <th>bonds_avgbal</th>\n",
       "      <th>bonds_eopbal</th>\n",
       "      <th>bonds_eopbal2</th>\n",
       "      <th>bonds_prod_cnt</th>\n",
       "      <th>bond_ind</th>\n",
       "      <th>casa_avgbal</th>\n",
       "      <th>...</th>\n",
       "      <th>occ3</th>\n",
       "      <th>occ4</th>\n",
       "      <th>occ5</th>\n",
       "      <th>occ6</th>\n",
       "      <th>occ7</th>\n",
       "      <th>qb</th>\n",
       "      <th>w_onlineBanking</th>\n",
       "      <th>w_mobileBanking</th>\n",
       "      <th>occupation</th>\n",
       "      <th>cluster</th>\n",
       "    </tr>\n",
       "  </thead>\n",
       "  <tbody>\n",
       "    <tr>\n",
       "      <th>count</th>\n",
       "      <td>43.000000</td>\n",
       "      <td>43.0</td>\n",
       "      <td>43.0</td>\n",
       "      <td>43.0</td>\n",
       "      <td>43.0</td>\n",
       "      <td>43.0</td>\n",
       "      <td>4.300000e+01</td>\n",
       "      <td>43.0</td>\n",
       "      <td>43.0</td>\n",
       "      <td>4.300000e+01</td>\n",
       "      <td>...</td>\n",
       "      <td>43.0</td>\n",
       "      <td>43.0</td>\n",
       "      <td>43.0</td>\n",
       "      <td>43.0</td>\n",
       "      <td>43.0</td>\n",
       "      <td>43.0</td>\n",
       "      <td>43.0</td>\n",
       "      <td>43.0</td>\n",
       "      <td>43.0</td>\n",
       "      <td>43.0</td>\n",
       "    </tr>\n",
       "    <tr>\n",
       "      <th>mean</th>\n",
       "      <td>27.744186</td>\n",
       "      <td>31.0</td>\n",
       "      <td>0.0</td>\n",
       "      <td>0.0</td>\n",
       "      <td>127540000.0</td>\n",
       "      <td>127540000.0</td>\n",
       "      <td>1.288303e+08</td>\n",
       "      <td>3.0</td>\n",
       "      <td>1.0</td>\n",
       "      <td>6.160742e+07</td>\n",
       "      <td>...</td>\n",
       "      <td>0.0</td>\n",
       "      <td>0.0</td>\n",
       "      <td>0.0</td>\n",
       "      <td>0.0</td>\n",
       "      <td>0.0</td>\n",
       "      <td>1.0</td>\n",
       "      <td>0.0</td>\n",
       "      <td>0.0</td>\n",
       "      <td>0.0</td>\n",
       "      <td>3.0</td>\n",
       "    </tr>\n",
       "    <tr>\n",
       "      <th>std</th>\n",
       "      <td>32.047653</td>\n",
       "      <td>0.0</td>\n",
       "      <td>0.0</td>\n",
       "      <td>0.0</td>\n",
       "      <td>0.0</td>\n",
       "      <td>0.0</td>\n",
       "      <td>1.055426e-07</td>\n",
       "      <td>0.0</td>\n",
       "      <td>0.0</td>\n",
       "      <td>2.261627e-08</td>\n",
       "      <td>...</td>\n",
       "      <td>0.0</td>\n",
       "      <td>0.0</td>\n",
       "      <td>0.0</td>\n",
       "      <td>0.0</td>\n",
       "      <td>0.0</td>\n",
       "      <td>0.0</td>\n",
       "      <td>0.0</td>\n",
       "      <td>0.0</td>\n",
       "      <td>0.0</td>\n",
       "      <td>0.0</td>\n",
       "    </tr>\n",
       "    <tr>\n",
       "      <th>min</th>\n",
       "      <td>0.000000</td>\n",
       "      <td>31.0</td>\n",
       "      <td>0.0</td>\n",
       "      <td>0.0</td>\n",
       "      <td>127540000.0</td>\n",
       "      <td>127540000.0</td>\n",
       "      <td>1.288303e+08</td>\n",
       "      <td>3.0</td>\n",
       "      <td>1.0</td>\n",
       "      <td>6.160742e+07</td>\n",
       "      <td>...</td>\n",
       "      <td>0.0</td>\n",
       "      <td>0.0</td>\n",
       "      <td>0.0</td>\n",
       "      <td>0.0</td>\n",
       "      <td>0.0</td>\n",
       "      <td>1.0</td>\n",
       "      <td>0.0</td>\n",
       "      <td>0.0</td>\n",
       "      <td>0.0</td>\n",
       "      <td>3.0</td>\n",
       "    </tr>\n",
       "    <tr>\n",
       "      <th>25%</th>\n",
       "      <td>10.000000</td>\n",
       "      <td>31.0</td>\n",
       "      <td>0.0</td>\n",
       "      <td>0.0</td>\n",
       "      <td>127540000.0</td>\n",
       "      <td>127540000.0</td>\n",
       "      <td>1.288303e+08</td>\n",
       "      <td>3.0</td>\n",
       "      <td>1.0</td>\n",
       "      <td>6.160742e+07</td>\n",
       "      <td>...</td>\n",
       "      <td>0.0</td>\n",
       "      <td>0.0</td>\n",
       "      <td>0.0</td>\n",
       "      <td>0.0</td>\n",
       "      <td>0.0</td>\n",
       "      <td>1.0</td>\n",
       "      <td>0.0</td>\n",
       "      <td>0.0</td>\n",
       "      <td>0.0</td>\n",
       "      <td>3.0</td>\n",
       "    </tr>\n",
       "    <tr>\n",
       "      <th>50%</th>\n",
       "      <td>18.000000</td>\n",
       "      <td>31.0</td>\n",
       "      <td>0.0</td>\n",
       "      <td>0.0</td>\n",
       "      <td>127540000.0</td>\n",
       "      <td>127540000.0</td>\n",
       "      <td>1.288303e+08</td>\n",
       "      <td>3.0</td>\n",
       "      <td>1.0</td>\n",
       "      <td>6.160742e+07</td>\n",
       "      <td>...</td>\n",
       "      <td>0.0</td>\n",
       "      <td>0.0</td>\n",
       "      <td>0.0</td>\n",
       "      <td>0.0</td>\n",
       "      <td>0.0</td>\n",
       "      <td>1.0</td>\n",
       "      <td>0.0</td>\n",
       "      <td>0.0</td>\n",
       "      <td>0.0</td>\n",
       "      <td>3.0</td>\n",
       "    </tr>\n",
       "    <tr>\n",
       "      <th>75%</th>\n",
       "      <td>29.000000</td>\n",
       "      <td>31.0</td>\n",
       "      <td>0.0</td>\n",
       "      <td>0.0</td>\n",
       "      <td>127540000.0</td>\n",
       "      <td>127540000.0</td>\n",
       "      <td>1.288303e+08</td>\n",
       "      <td>3.0</td>\n",
       "      <td>1.0</td>\n",
       "      <td>6.160742e+07</td>\n",
       "      <td>...</td>\n",
       "      <td>0.0</td>\n",
       "      <td>0.0</td>\n",
       "      <td>0.0</td>\n",
       "      <td>0.0</td>\n",
       "      <td>0.0</td>\n",
       "      <td>1.0</td>\n",
       "      <td>0.0</td>\n",
       "      <td>0.0</td>\n",
       "      <td>0.0</td>\n",
       "      <td>3.0</td>\n",
       "    </tr>\n",
       "    <tr>\n",
       "      <th>max</th>\n",
       "      <td>150.000000</td>\n",
       "      <td>31.0</td>\n",
       "      <td>0.0</td>\n",
       "      <td>0.0</td>\n",
       "      <td>127540000.0</td>\n",
       "      <td>127540000.0</td>\n",
       "      <td>1.288303e+08</td>\n",
       "      <td>3.0</td>\n",
       "      <td>1.0</td>\n",
       "      <td>6.160742e+07</td>\n",
       "      <td>...</td>\n",
       "      <td>0.0</td>\n",
       "      <td>0.0</td>\n",
       "      <td>0.0</td>\n",
       "      <td>0.0</td>\n",
       "      <td>0.0</td>\n",
       "      <td>1.0</td>\n",
       "      <td>0.0</td>\n",
       "      <td>0.0</td>\n",
       "      <td>0.0</td>\n",
       "      <td>3.0</td>\n",
       "    </tr>\n",
       "  </tbody>\n",
       "</table>\n",
       "<p>8 rows × 139 columns</p>\n",
       "</div>"
      ],
      "text/plain": [
       "         acct_mob   age  annual_income_grb  att_ind  bonds_avgbal  \\\n",
       "count   43.000000  43.0               43.0     43.0          43.0   \n",
       "mean    27.744186  31.0                0.0      0.0   127540000.0   \n",
       "std     32.047653   0.0                0.0      0.0           0.0   \n",
       "min      0.000000  31.0                0.0      0.0   127540000.0   \n",
       "25%     10.000000  31.0                0.0      0.0   127540000.0   \n",
       "50%     18.000000  31.0                0.0      0.0   127540000.0   \n",
       "75%     29.000000  31.0                0.0      0.0   127540000.0   \n",
       "max    150.000000  31.0                0.0      0.0   127540000.0   \n",
       "\n",
       "       bonds_eopbal  bonds_eopbal2  bonds_prod_cnt  bond_ind   casa_avgbal  \\\n",
       "count          43.0   4.300000e+01            43.0      43.0  4.300000e+01   \n",
       "mean    127540000.0   1.288303e+08             3.0       1.0  6.160742e+07   \n",
       "std             0.0   1.055426e-07             0.0       0.0  2.261627e-08   \n",
       "min     127540000.0   1.288303e+08             3.0       1.0  6.160742e+07   \n",
       "25%     127540000.0   1.288303e+08             3.0       1.0  6.160742e+07   \n",
       "50%     127540000.0   1.288303e+08             3.0       1.0  6.160742e+07   \n",
       "75%     127540000.0   1.288303e+08             3.0       1.0  6.160742e+07   \n",
       "max     127540000.0   1.288303e+08             3.0       1.0  6.160742e+07   \n",
       "\n",
       "       ...  occ3  occ4  occ5  occ6  occ7    qb  w_onlineBanking  \\\n",
       "count  ...  43.0  43.0  43.0  43.0  43.0  43.0             43.0   \n",
       "mean   ...   0.0   0.0   0.0   0.0   0.0   1.0              0.0   \n",
       "std    ...   0.0   0.0   0.0   0.0   0.0   0.0              0.0   \n",
       "min    ...   0.0   0.0   0.0   0.0   0.0   1.0              0.0   \n",
       "25%    ...   0.0   0.0   0.0   0.0   0.0   1.0              0.0   \n",
       "50%    ...   0.0   0.0   0.0   0.0   0.0   1.0              0.0   \n",
       "75%    ...   0.0   0.0   0.0   0.0   0.0   1.0              0.0   \n",
       "max    ...   0.0   0.0   0.0   0.0   0.0   1.0              0.0   \n",
       "\n",
       "       w_mobileBanking  occupation  cluster  \n",
       "count             43.0        43.0     43.0  \n",
       "mean               0.0         0.0      3.0  \n",
       "std                0.0         0.0      0.0  \n",
       "min                0.0         0.0      3.0  \n",
       "25%                0.0         0.0      3.0  \n",
       "50%                0.0         0.0      3.0  \n",
       "75%                0.0         0.0      3.0  \n",
       "max                0.0         0.0      3.0  \n",
       "\n",
       "[8 rows x 139 columns]"
      ]
     },
     "execution_count": 111,
     "metadata": {},
     "output_type": "execute_result"
    }
   ],
   "source": [
    "df_cluster4.describe()"
   ]
  },
  {
   "cell_type": "markdown",
   "id": "9e608a87",
   "metadata": {},
   "source": [
    "Average number of months passed since the opening of account is around 28 for cluster 4 whereas it is around 94 for cluster 1. The accounts in 1st cluster are opened long before the accounts in 4th cluster."
   ]
  },
  {
   "cell_type": "code",
   "execution_count": 135,
   "id": "7c5c1c55",
   "metadata": {},
   "outputs": [
    {
     "name": "stdout",
     "output_type": "stream",
     "text": [
      "1.0    69940\n",
      "0.0    22151\n",
      "Name: digital, dtype: int64\n",
      "1.0    303\n",
      "0.0    120\n",
      "Name: digital, dtype: int64\n",
      "1.0    2130\n",
      "0.0     821\n",
      "Name: digital, dtype: int64\n",
      "0.0    43\n",
      "Name: digital, dtype: int64\n"
     ]
    }
   ],
   "source": [
    "clusters=[df_cluster1,df_cluster2,df_cluster3,df_cluster4]\n",
    "for i in clusters:\n",
    "    print(i['digital'].value_counts())"
   ]
  },
  {
   "cell_type": "markdown",
   "id": "65c96f6b",
   "metadata": {},
   "source": [
    "Almost 70% of the accounts in all the clusters has a Mobile Banking or online banking activated except cluster 4. None of the accounts in cluster 4 has activated mobile or online banking."
   ]
  },
  {
   "cell_type": "code",
   "execution_count": 126,
   "id": "6a16cb7d",
   "metadata": {},
   "outputs": [
    {
     "name": "stdout",
     "output_type": "stream",
     "text": [
      "0.0    60236\n",
      "1.0    31855\n",
      "Name: casa_only, dtype: int64\n",
      "0.0    423\n",
      "Name: casa_only, dtype: int64\n",
      "0.0    2938\n",
      "1.0      13\n",
      "Name: casa_only, dtype: int64\n",
      "0.0    43\n",
      "Name: casa_only, dtype: int64\n"
     ]
    }
   ],
   "source": [
    "for i in clusters:\n",
    "    print(i['casa_only'].value_counts())"
   ]
  },
  {
   "cell_type": "markdown",
   "id": "f15e008e",
   "metadata": {},
   "source": [
    "Almost all the customers have no history of holding any products other than CASA for the last 5 years except in cluster 1. around 30% of the customers from cluster 1 used other products than CASA."
   ]
  },
  {
   "cell_type": "code",
   "execution_count": 128,
   "id": "cb4c41aa",
   "metadata": {},
   "outputs": [
    {
     "name": "stdout",
     "output_type": "stream",
     "text": [
      "0    69404\n",
      "1    22687\n",
      "Name: bond_ind, dtype: int64\n",
      "1    366\n",
      "0     57\n",
      "Name: bond_ind, dtype: int64\n",
      "1    2421\n",
      "0     530\n",
      "Name: bond_ind, dtype: int64\n",
      "1    43\n",
      "Name: bond_ind, dtype: int64\n"
     ]
    }
   ],
   "source": [
    "for i in clusters:\n",
    "    print(i['bond_ind'].value_counts())"
   ]
  },
  {
   "cell_type": "code",
   "execution_count": 129,
   "id": "1bee006a",
   "metadata": {},
   "outputs": [
    {
     "name": "stdout",
     "output_type": "stream",
     "text": [
      "0    58234\n",
      "1    33857\n",
      "Name: fund_ind, dtype: int64\n",
      "1    382\n",
      "0     41\n",
      "Name: fund_ind, dtype: int64\n",
      "1    2737\n",
      "0     214\n",
      "Name: fund_ind, dtype: int64\n",
      "1    43\n",
      "Name: fund_ind, dtype: int64\n"
     ]
    }
   ],
   "source": [
    "for i in clusters:\n",
    "    print(i['fund_ind'].value_counts())"
   ]
  },
  {
   "cell_type": "markdown",
   "id": "01a31c70",
   "metadata": {},
   "source": [
    "100% of the customers from cluster 4 have mutual fund product and bond product.\n",
    "from clusters 2 and 3 almost 90% of the customers have mutual fund product and bond product.\n",
    "Whereas from cluster 1 only around 70% of the customers have mutual fund product and bond product."
   ]
  },
  {
   "cell_type": "code",
   "execution_count": 130,
   "id": "d9af0ae7",
   "metadata": {},
   "outputs": [
    {
     "name": "stdout",
     "output_type": "stream",
     "text": [
      "0.0    71601\n",
      "1.0    20490\n",
      "Name: ind_ca, dtype: int64\n",
      "0.0    395\n",
      "1.0     28\n",
      "Name: ind_ca, dtype: int64\n",
      "0.0    2733\n",
      "1.0     218\n",
      "Name: ind_ca, dtype: int64\n",
      "0.0    42\n",
      "1.0     1\n",
      "Name: ind_ca, dtype: int64\n"
     ]
    }
   ],
   "source": [
    "for i in clusters:\n",
    "    print(i['ind_ca'].value_counts())"
   ]
  },
  {
   "cell_type": "markdown",
   "id": "bbc10385",
   "metadata": {},
   "source": [
    "Almost all the accounts from cluster 4 are saving accounts.\n",
    "10% of the accounts from cluster 2&3 contains checking accounts.\n",
    "Whereas in cluster 1,around 20% of the accounts are checking accounts."
   ]
  },
  {
   "cell_type": "code",
   "execution_count": 131,
   "id": "9298585d",
   "metadata": {},
   "outputs": [
    {
     "name": "stdout",
     "output_type": "stream",
     "text": [
      "0.0    54374\n",
      "1.0    37717\n",
      "Name: w_onlineBanking, dtype: int64\n",
      "1.0    249\n",
      "0.0    174\n",
      "Name: w_onlineBanking, dtype: int64\n",
      "0.0    1539\n",
      "1.0    1412\n",
      "Name: w_onlineBanking, dtype: int64\n",
      "0.0    43\n",
      "Name: w_onlineBanking, dtype: int64\n"
     ]
    }
   ],
   "source": [
    "for i in clusters:\n",
    "    print(i['w_onlineBanking'].value_counts())"
   ]
  },
  {
   "cell_type": "code",
   "execution_count": 132,
   "id": "878586e5",
   "metadata": {},
   "outputs": [
    {
     "name": "stdout",
     "output_type": "stream",
     "text": [
      "1.0    59045\n",
      "0.0    33046\n",
      "Name: w_mobileBanking, dtype: int64\n",
      "1.0    247\n",
      "0.0    176\n",
      "Name: w_mobileBanking, dtype: int64\n",
      "1.0    1570\n",
      "0.0    1381\n",
      "Name: w_mobileBanking, dtype: int64\n",
      "0.0    43\n",
      "Name: w_mobileBanking, dtype: int64\n"
     ]
    }
   ],
   "source": [
    "for i in clusters:\n",
    "    print(i['w_mobileBanking'].value_counts())"
   ]
  },
  {
   "cell_type": "code",
   "execution_count": 136,
   "id": "b56c4fb4",
   "metadata": {},
   "outputs": [
    {
     "name": "stdout",
     "output_type": "stream",
     "text": [
      "0.0    87148\n",
      "1.0     4943\n",
      "Name: qb, dtype: int64\n",
      "1.0    382\n",
      "0.0     41\n",
      "Name: qb, dtype: int64\n",
      "1.0    2312\n",
      "0.0     639\n",
      "Name: qb, dtype: int64\n",
      "1.0    43\n",
      "Name: qb, dtype: int64\n"
     ]
    }
   ],
   "source": [
    "for i in clusters:\n",
    "    print(i['qb'].value_counts())"
   ]
  },
  {
   "cell_type": "markdown",
   "id": "b5b2218e",
   "metadata": {},
   "source": [
    "All the customers from cluster 4 are qualified buyers.Only 5% of the customers from cluster 1 are qualified buyers.\n",
    "from clusters 2 & 3 around 90% of the customers are qualified buyers."
   ]
  },
  {
   "cell_type": "code",
   "execution_count": 160,
   "id": "dab090ea",
   "metadata": {},
   "outputs": [
    {
     "name": "stdout",
     "output_type": "stream",
     "text": [
      "1.0    62104\n",
      "0.0    29987\n",
      "Name: onlineBanking_digital_60, dtype: int64\n",
      "1.0    214\n",
      "0.0    209\n",
      "Name: onlineBanking_digital_60, dtype: int64\n",
      "1.0    1693\n",
      "0.0    1258\n",
      "Name: onlineBanking_digital_60, dtype: int64\n",
      "0.0    43\n",
      "Name: onlineBanking_digital_60, dtype: int64\n"
     ]
    }
   ],
   "source": [
    "for i in clusters:\n",
    "    print(i['onlineBanking_digital_60'].value_counts())"
   ]
  },
  {
   "cell_type": "markdown",
   "id": "70ed1891",
   "metadata": {},
   "source": [
    "No customer from cluster 4 is active in last 2 months "
   ]
  }
 ],
 "metadata": {
  "kernelspec": {
   "display_name": "Python 3 (ipykernel)",
   "language": "python",
   "name": "python3"
  },
  "language_info": {
   "codemirror_mode": {
    "name": "ipython",
    "version": 3
   },
   "file_extension": ".py",
   "mimetype": "text/x-python",
   "name": "python",
   "nbconvert_exporter": "python",
   "pygments_lexer": "ipython3",
   "version": "3.9.12"
  }
 },
 "nbformat": 4,
 "nbformat_minor": 5
}
